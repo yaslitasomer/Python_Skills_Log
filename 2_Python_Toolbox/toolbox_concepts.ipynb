{
 "cells": [
  {
   "cell_type": "markdown",
   "id": "ef8ea93e",
   "metadata": {},
   "source": [
    "## CH1"
   ]
  },
  {
   "cell_type": "markdown",
   "id": "494d8a11",
   "metadata": {},
   "source": [
    "##### Iterators"
   ]
  },
  {
   "cell_type": "code",
   "execution_count": 1,
   "id": "4ab0fe8b",
   "metadata": {},
   "outputs": [
    {
     "name": "stdout",
     "output_type": "stream",
     "text": [
      "Alice\n",
      "Bob\n",
      "Charlie\n"
     ]
    }
   ],
   "source": [
    "# iterating with for loops\n",
    "employees = ['Alice', 'Bob', 'Charlie']\n",
    "for employee in employees:\n",
    "    print(employee)"
   ]
  },
  {
   "cell_type": "markdown",
   "id": "e33ec0ba",
   "metadata": {},
   "source": [
    "##### Iterators vs. iterables\n",
    "- Iterable\n",
    "    - Examples: lists, strings, dictionaries, ,le connections\n",
    "    - An object with an associated iter() method\n",
    "    - Applying iter() to an iterable creates an iterator\n",
    "- Iterator\n",
    "    - Produces next value with next()"
   ]
  },
  {
   "cell_type": "code",
   "execution_count": 3,
   "id": "4c03ee2f",
   "metadata": {},
   "outputs": [
    {
     "name": "stdout",
     "output_type": "stream",
     "text": [
      "H\n",
      "i\n"
     ]
    }
   ],
   "source": [
    "word = \"Hi\"\n",
    "it = iter(word)\n",
    "print(next(it))  # 'H'\n",
    "print(next(it))  # 'i'"
   ]
  },
  {
   "cell_type": "code",
   "execution_count": 4,
   "id": "b7be5bad",
   "metadata": {},
   "outputs": [
    {
     "name": "stdout",
     "output_type": "stream",
     "text": [
      "P y t h o n\n"
     ]
    }
   ],
   "source": [
    "word = \"Python\"\n",
    "it = iter(word)\n",
    "print(*it)  # P y t h o n"
   ]
  },
  {
   "cell_type": "code",
   "execution_count": 7,
   "id": "0f385110",
   "metadata": {},
   "outputs": [
    {
     "name": "stdout",
     "output_type": "stream",
     "text": [
      "<class 'enumerate'>\n",
      "[(0, 'Superman'), (1, 'Batman'), (2, 'Wonder Woman'), (3, 'Flash'), (4, 'Aquaman')]\n"
     ]
    }
   ],
   "source": [
    "# Enumarate function\n",
    "justice_league = ['Superman', 'Batman', 'Wonder Woman', 'Flash', 'Aquaman']\n",
    "e = enumerate(justice_league)\n",
    "print(type(e))  # <class 'enumerate'>\n",
    "print(list(e))"
   ]
  },
  {
   "cell_type": "code",
   "execution_count": 8,
   "id": "f2faf841",
   "metadata": {},
   "outputs": [
    {
     "name": "stdout",
     "output_type": "stream",
     "text": [
      "1. Superman\n",
      "2. Batman\n",
      "3. Wonder Woman\n",
      "4. Flash\n",
      "5. Aquaman\n"
     ]
    }
   ],
   "source": [
    "# Enumarate and unpacking\n",
    "justice_league = ['Superman', 'Batman', 'Wonder Woman', 'Flash', 'Aquaman']\n",
    "for index, hero in enumerate(justice_league, start=1):\n",
    "    print(f\"{index}. {hero}\")"
   ]
  },
  {
   "cell_type": "code",
   "execution_count": 10,
   "id": "427c55ef",
   "metadata": {},
   "outputs": [
    {
     "name": "stdout",
     "output_type": "stream",
     "text": [
      "<class 'zip'>\n",
      "[('Superman', 'Clark'), ('Batman', 'Bruce'), ('Wonder Woman', 'Diana'), ('Flash', 'Barry'), ('Aquaman', 'Arthur')]\n"
     ]
    }
   ],
   "source": [
    "# Zip function\n",
    "heroes = ['Superman', 'Batman', 'Wonder Woman', 'Flash', 'Aquaman']\n",
    "names = ['Clark', 'Bruce', 'Diana', 'Barry', 'Arthur']\n",
    "z = zip(heroes, names)\n",
    "print(type(z))  # <class 'zip'>\n",
    "print(list(z))"
   ]
  },
  {
   "cell_type": "code",
   "execution_count": 11,
   "id": "2bf17528",
   "metadata": {},
   "outputs": [
    {
     "name": "stdout",
     "output_type": "stream",
     "text": [
      "Superman: Clark\n",
      "Batman: Bruce\n",
      "Wonder Woman: Diana\n",
      "Flash: Barry\n",
      "Aquaman: Arthur\n"
     ]
    }
   ],
   "source": [
    "# Zip and unpacking\n",
    "heroes = ['Superman', 'Batman', 'Wonder Woman', 'Flash', 'Aquaman']\n",
    "names = ['Clark', 'Bruce', 'Diana', 'Barry', 'Arthur']\n",
    "\n",
    "for hero, name in zip(heroes, names):\n",
    "    print(f\"{hero}: {name}\")"
   ]
  },
  {
   "cell_type": "code",
   "execution_count": 12,
   "id": "0b6d9ed1",
   "metadata": {},
   "outputs": [
    {
     "name": "stdout",
     "output_type": "stream",
     "text": [
      "('Superman', 'Clark') ('Batman', 'Bruce') ('Wonder Woman', 'Diana') ('Flash', 'Barry') ('Aquaman', 'Arthur')\n"
     ]
    }
   ],
   "source": [
    "# Print zip with * operator\n",
    "heroes = ['Superman', 'Batman', 'Wonder Woman', 'Flash', 'Aquaman']\n",
    "names = ['Clark', 'Bruce', 'Diana', 'Barry', 'Arthur']\n",
    "z = zip(heroes, names)\n",
    "print(*z)"
   ]
  },
  {
   "cell_type": "markdown",
   "id": "b10c870b",
   "metadata": {},
   "source": [
    "## CH2"
   ]
  },
  {
   "cell_type": "markdown",
   "id": "10e03ee1",
   "metadata": {},
   "source": [
    "##### List Comprehensions"
   ]
  },
  {
   "cell_type": "code",
   "execution_count": 13,
   "id": "05c9fdfe",
   "metadata": {},
   "outputs": [
    {
     "name": "stdout",
     "output_type": "stream",
     "text": [
      "[1, 4, 9, 16, 25]\n"
     ]
    }
   ],
   "source": [
    "nums = [1, 2, 3, 4, 5]\n",
    "squared = [n**2 for n in nums]\n",
    "print(squared)  # [1, 4, 9, 16, 25]"
   ]
  },
  {
   "cell_type": "code",
   "execution_count": 16,
   "id": "60d72772",
   "metadata": {},
   "outputs": [
    {
     "name": "stdout",
     "output_type": "stream",
     "text": [
      "[(0, 6), (0, 7), (1, 6), (1, 7), (2, 6), (2, 7), (3, 6), (3, 7), (4, 6), (4, 7)]\n"
     ]
    }
   ],
   "source": [
    "pairs = [(num1 , num2) for num1 in range(5) for num2 in range(6,8)]\n",
    "print(pairs)  "
   ]
  },
  {
   "cell_type": "markdown",
   "id": "a7cb27db",
   "metadata": {},
   "source": [
    "##### Advanced Comprehensions"
   ]
  },
  {
   "cell_type": "code",
   "execution_count": 17,
   "id": "88d62a44",
   "metadata": {},
   "outputs": [
    {
     "name": "stdout",
     "output_type": "stream",
     "text": [
      "[0, 4, 16, 36, 64]\n"
     ]
    }
   ],
   "source": [
    "# Conditional Comprehensions in iterables\n",
    "even_squared = [n**2 for n in range(10) if n % 2 == 0]\n",
    "print(even_squared)  # [0, 4, 16, 36, 64]"
   ]
  },
  {
   "cell_type": "code",
   "execution_count": 19,
   "id": "6153cb3a",
   "metadata": {},
   "outputs": [
    {
     "name": "stdout",
     "output_type": "stream",
     "text": [
      "[0, 4, 16, 36, 64]\n"
     ]
    }
   ],
   "source": [
    "# Conditional Comprehensions in output\n",
    "squared = [n**2 if n % 2 == 0 else 0 for n in range(10) if n % 2 == 0]\n",
    "print(squared)  # [0, 4, 0, 16, 0, 36, 0, 64]"
   ]
  },
  {
   "cell_type": "markdown",
   "id": "d4795fa0",
   "metadata": {},
   "source": [
    "##### Dict Comprehensions"
   ]
  },
  {
   "cell_type": "code",
   "execution_count": 21,
   "id": "0c7dcc17",
   "metadata": {},
   "outputs": [
    {
     "name": "stdout",
     "output_type": "stream",
     "text": [
      "{1: -1, 2: -2, 3: -3, 4: -4, 5: -5, 6: -6, 7: -7, 8: -8, 9: -9}\n"
     ]
    }
   ],
   "source": [
    "pos_neg = {num: -num for num in range(1,10)}\n",
    "print(pos_neg)  "
   ]
  },
  {
   "cell_type": "markdown",
   "id": "d49ae10c",
   "metadata": {},
   "source": [
    "##### Generator Expressions"
   ]
  },
  {
   "cell_type": "code",
   "execution_count": 23,
   "id": "6368eeb1",
   "metadata": {},
   "outputs": [
    {
     "data": {
      "text/plain": [
       "<generator object <genexpr> at 0x000001D67D08C520>"
      ]
     },
     "execution_count": 23,
     "metadata": {},
     "output_type": "execute_result"
    }
   ],
   "source": [
    "(num * 2 for num in range(10))  # generator expression"
   ]
  },
  {
   "cell_type": "code",
   "execution_count": 26,
   "id": "1601b12b",
   "metadata": {},
   "outputs": [
    {
     "name": "stdout",
     "output_type": "stream",
     "text": [
      "0\n",
      "2\n",
      "4\n",
      "6\n",
      "8\n",
      "--------------------\n",
      "[0, 2, 4, 6, 8]\n",
      "--------------------\n",
      "0\n",
      "2\n",
      "4\n",
      "6\n",
      "8\n"
     ]
    }
   ],
   "source": [
    "# Printing values from a generator expression\n",
    "gen_exp = (num * 2 for num in range(5))\n",
    "for val in gen_exp:\n",
    "    print(val)\n",
    "\n",
    "# seperator\n",
    "print(\"-\" * 20)\n",
    "\n",
    "gen_exp = (num * 2 for num in range(5))\n",
    "print(list(gen_exp))\n",
    "\n",
    "# seperator\n",
    "print(\"-\" * 20)\n",
    "\n",
    "gen_exp = (num * 2 for num in range(5))\n",
    "print(next(gen_exp))  # 0\n",
    "print(next(gen_exp))  # 2\n",
    "print(next(gen_exp))  # 4\n",
    "print(next(gen_exp))  # 6\n",
    "print(next(gen_exp))  # 8\n",
    "#print(next(gen_exp))  # StopIteration\n"
   ]
  },
  {
   "cell_type": "markdown",
   "id": "5d678241",
   "metadata": {},
   "source": [
    "##### Generator Function\n"
   ]
  },
  {
   "cell_type": "code",
   "execution_count": 1,
   "id": "cb115a8c",
   "metadata": {},
   "outputs": [
    {
     "name": "stdout",
     "output_type": "stream",
     "text": [
      "<class 'generator'>\n",
      "0\n",
      "1\n",
      "2\n",
      "3\n",
      "4\n"
     ]
    }
   ],
   "source": [
    "# Generator function\n",
    "def num_sequence(n):\n",
    "    ''' Generate numbers from 0 to n-1 '''\n",
    "    num = 0\n",
    "    while num < n:\n",
    "        yield num\n",
    "        num += 1\n",
    "\n",
    "# Using the generator function\n",
    "result = num_sequence(5)\n",
    "print(type(result))  # <class 'generator'>\n",
    "for val in result:\n",
    "    print(val)\n"
   ]
  }
 ],
 "metadata": {
  "kernelspec": {
   "display_name": "base",
   "language": "python",
   "name": "python3"
  },
  "language_info": {
   "codemirror_mode": {
    "name": "ipython",
    "version": 3
   },
   "file_extension": ".py",
   "mimetype": "text/x-python",
   "name": "python",
   "nbconvert_exporter": "python",
   "pygments_lexer": "ipython3",
   "version": "3.12.4"
  }
 },
 "nbformat": 4,
 "nbformat_minor": 5
}

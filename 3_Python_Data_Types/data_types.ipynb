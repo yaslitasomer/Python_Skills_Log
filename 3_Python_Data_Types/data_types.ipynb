{
 "cells": [
  {
   "cell_type": "markdown",
   "id": "196bbd90",
   "metadata": {},
   "source": [
    "## CH1"
   ]
  },
  {
   "cell_type": "markdown",
   "id": "75225a79",
   "metadata": {},
   "source": [
    "##### Lists"
   ]
  },
  {
   "cell_type": "code",
   "execution_count": 15,
   "id": "424b3439",
   "metadata": {},
   "outputs": [
    {
     "name": "stdout",
     "output_type": "stream",
     "text": [
      "['Superman', 'Batman', 'Wonder Woman']\n"
     ]
    }
   ],
   "source": [
    "justice_league = [\"Superman\", \"Batman\"]\n",
    "justice_league.append(\"Wonder Woman\")\n",
    "print(justice_league)"
   ]
  },
  {
   "cell_type": "code",
   "execution_count": 16,
   "id": "e5e9e474",
   "metadata": {},
   "outputs": [
    {
     "name": "stdout",
     "output_type": "stream",
     "text": [
      "['Superman', 'Batman', 'Wonder Woman', 'Green Lantern', 'Hawkgirl', 'Mr. Terrific']\n"
     ]
    }
   ],
   "source": [
    "# Combining lists\n",
    "justice_gang = [\"Green Lantern\", \"Hawkgirl\", \"Mr. Terrific\"]\n",
    "dc_characters = justice_league + justice_gang\n",
    "print(dc_characters)"
   ]
  },
  {
   "cell_type": "code",
   "execution_count": 17,
   "id": "041a7acd",
   "metadata": {},
   "outputs": [
    {
     "name": "stdout",
     "output_type": "stream",
     "text": [
      "['Superman', 'Batman', 'Wonder Woman', 'Green Lantern', 'Hawkgirl', 'Mr. Terrific', 'Lex Luthor', 'The Joker']\n"
     ]
    }
   ],
   "source": [
    "# using extend() method\n",
    "dc_villains = [\"Lex Luthor\", \"The Joker\"]\n",
    "dc_characters.extend(dc_villains)\n",
    "print(dc_characters)"
   ]
  },
  {
   "cell_type": "code",
   "execution_count": 18,
   "id": "f5c11ae1",
   "metadata": {},
   "outputs": [
    {
     "name": "stdout",
     "output_type": "stream",
     "text": [
      "['Superman', 'Batman', 'Wonder Woman', 'Green Lantern', 'Hawkgirl', 'Mr. Terrific', 'Lex Luthor']\n",
      "The Joker\n"
     ]
    }
   ],
   "source": [
    "# Finding and popping items from a list\n",
    "position = dc_characters.index(\"The Joker\")\n",
    "joker = dc_characters.pop(position)\n",
    "print(dc_characters)\n",
    "print(joker)"
   ]
  },
  {
   "cell_type": "code",
   "execution_count": 19,
   "id": "c9a34f48",
   "metadata": {},
   "outputs": [
    {
     "name": "stdout",
     "output_type": "stream",
     "text": [
      "['SUPERMAN', 'BATMAN', 'WONDER WOMAN', 'GREEN LANTERN', 'HAWKGIRL', 'MR. TERRIFIC', 'LEX LUTHOR']\n"
     ]
    }
   ],
   "source": [
    "# Iterating through a list by list comprehension\n",
    "uppercase_characters = [character.upper() for character in dc_characters]\n",
    "print(uppercase_characters)"
   ]
  },
  {
   "cell_type": "code",
   "execution_count": 20,
   "id": "6f1236b0",
   "metadata": {},
   "outputs": [
    {
     "name": "stdout",
     "output_type": "stream",
     "text": [
      "['Batman', 'Green Lantern', 'Hawkgirl', 'Lex Luthor', 'Mr. Terrific', 'Superman', 'Wonder Woman']\n"
     ]
    }
   ],
   "source": [
    "# Sorting a list\n",
    "sorted_characters = sorted(dc_characters)\n",
    "print(sorted_characters)"
   ]
  },
  {
   "cell_type": "markdown",
   "id": "b91f8420",
   "metadata": {},
   "source": [
    "##### Tuples"
   ]
  },
  {
   "cell_type": "code",
   "execution_count": 24,
   "id": "d5cbc005",
   "metadata": {},
   "outputs": [
    {
     "name": "stdout",
     "output_type": "stream",
     "text": [
      "(('Superman', 'David Corenswet'), ('Batman', 'Robert Pattinson'), ('Green Lantern', 'Nathan Fillion'))\n",
      "[('Superman', 'David Corenswet'), ('Batman', 'Robert Pattinson'), ('Green Lantern', 'Nathan Fillion')]\n"
     ]
    }
   ],
   "source": [
    "# Creating a tuple by zipping two lists\n",
    "heroes = (\"Superman\", \"Batman\", \"Green Lantern\")\n",
    "actors = (\"David Corenswet\", \"Robert Pattinson\", \"Nathan Fillion\")\n",
    "hero_actors = tuple(zip(heroes, actors))\n",
    "print(hero_actors)\n",
    "\n",
    "# List of tuples\n",
    "hero_actors_list = list(zip(heroes, actors))\n",
    "print(hero_actors_list)"
   ]
  },
  {
   "cell_type": "code",
   "execution_count": 30,
   "id": "c11d565a",
   "metadata": {},
   "outputs": [
    {
     "name": "stdout",
     "output_type": "stream",
     "text": [
      "Batman is played by Robert Pattinson.\n",
      "----------------------------------------\n",
      "Superman is played by David Corenswet.\n",
      "Batman is played by Robert Pattinson.\n",
      "Green Lantern is played by Nathan Fillion.\n"
     ]
    }
   ],
   "source": [
    "# Unpacking a tuple\n",
    "hero, actor = hero_actors_list[1]\n",
    "print(f\"{hero} is played by {actor}.\")\n",
    "\n",
    "# seperator\n",
    "print(\"-\" * 40)\n",
    "\n",
    "# In a for loop unpacking tuples\n",
    "for hero, actor in hero_actors_list:\n",
    "    print(f\"{hero} is played by {actor}.\")"
   ]
  },
  {
   "cell_type": "code",
   "execution_count": 32,
   "id": "f6e0ecd3",
   "metadata": {},
   "outputs": [
    {
     "name": "stdout",
     "output_type": "stream",
     "text": [
      "1: Superman is played by David Corenswet.\n",
      "2: Batman is played by Robert Pattinson.\n",
      "3: Green Lantern is played by Nathan Fillion.\n"
     ]
    }
   ],
   "source": [
    "# Enumerating positions in a tuple\n",
    "for index, hero_actor in enumerate(hero_actors_list, start=1):\n",
    "    hero, actor = hero_actor\n",
    "    print(f\"{index}: {hero} is played by {actor}.\")"
   ]
  },
  {
   "cell_type": "markdown",
   "id": "3a866994",
   "metadata": {},
   "source": [
    "##### Strings"
   ]
  },
  {
   "cell_type": "code",
   "execution_count": 34,
   "id": "0c02ea98",
   "metadata": {},
   "outputs": [
    {
     "name": "stdout",
     "output_type": "stream",
     "text": [
      "Batman is also known as Dark Knight.\n"
     ]
    }
   ],
   "source": [
    "# Creating formatted strings\n",
    "name = \"Batman\"\n",
    "alias = \"Dark Knight\"\n",
    "print(f\"{name} is also known as {alias}.\")"
   ]
  },
  {
   "cell_type": "code",
   "execution_count": 42,
   "id": "28475eda",
   "metadata": {},
   "outputs": [
    {
     "name": "stdout",
     "output_type": "stream",
     "text": [
      "Superman, Batman, Wonder Woman, Green Lantern, Flash\n",
      "The Justice League members are: Superman, Batman, Wonder Woman, Green Lantern, and Flash.\n"
     ]
    }
   ],
   "source": [
    "# By using join() method\n",
    "heroes = [\"Superman\", \"Batman\", \"Wonder Woman\", \"Green Lantern\", \"Flash\"]\n",
    "print(\", \".join(heroes))\n",
    "print(f\"The Justice League members are: {\", \".join(heroes[0:-1])}, and {heroes[-1]}.\")"
   ]
  },
  {
   "cell_type": "code",
   "execution_count": 43,
   "id": "41578d5f",
   "metadata": {},
   "outputs": [
    {
     "name": "stdout",
     "output_type": "stream",
     "text": [
      "['Batman']\n",
      "['Superman', 'Batman', 'Wonder Woman', 'Green Lantern']\n"
     ]
    }
   ],
   "source": [
    "# Matching parts of strings\n",
    "print([hero for hero in heroes if hero.startswith(\"B\")])\n",
    "print([hero for hero in heroes if hero.endswith(\"n\")])"
   ]
  },
  {
   "cell_type": "markdown",
   "id": "1ad3b499",
   "metadata": {},
   "source": [
    "## CH2"
   ]
  },
  {
   "cell_type": "markdown",
   "id": "f2c45c66",
   "metadata": {},
   "source": [
    "##### Dictionaries"
   ]
  },
  {
   "cell_type": "code",
   "execution_count": 52,
   "id": "29d8924f",
   "metadata": {},
   "outputs": [
    {
     "name": "stdout",
     "output_type": "stream",
     "text": [
      "Man of Steel\n",
      "KeyError: 'Aquaman'\n",
      "None\n",
      "Not Found\n"
     ]
    }
   ],
   "source": [
    "# Finding by key\n",
    "hero_aliases = { \"Superman\": \"Man of Steel\", \"Batman\": \"Dark Knight\", \"Flash\": \"Scarlet Speedster\" }\n",
    "print(hero_aliases[\"Superman\"])\n",
    "\n",
    "# Not existing key\n",
    "try :\n",
    "    print(hero_aliases[\"Aquaman\"])\n",
    "except KeyError as e:\n",
    "    print(f\"KeyError: {e}\")\n",
    "print(hero_aliases.get(\"Aquaman\")) # Safe, returns None\n",
    "print(hero_aliases.get(\"Aquaman\", \"Not Found\")) # Safe, returns default value"
   ]
  },
  {
   "cell_type": "code",
   "execution_count": 55,
   "id": "55aaca6e",
   "metadata": {},
   "outputs": [
    {
     "name": "stdout",
     "output_type": "stream",
     "text": [
      "{'Superman': 'Man of Steel', 'Batman': 'Dark Knight', 'Flash': 'Fastest Man Alive', 'Wonder Woman': 'Amazon Princess'}\n",
      "{'Superman': 'Man of Steel', 'Batman': 'Dark Knight', 'Flash': 'Fastest Man Alive', 'Wonder Woman': 'Amazon Princess', 'Green Lantern': 'Emerald Knight', 'Cyborg': 'Half Man, Half Machine'}\n"
     ]
    }
   ],
   "source": [
    "# Adding and extending dictionaries by update() method\n",
    "hero_aliases.update({\"Wonder Woman\": \"Amazon Princess\"})\n",
    "hero_aliases.update({\"Flash\": \"Fastest Man Alive\"})\n",
    "print(hero_aliases)\n",
    "\n",
    "# Update with another dictionary\n",
    "more_aliases = { \"Green Lantern\": \"Emerald Knight\", \"Cyborg\": \"Half Man, Half Machine\"}\n",
    "hero_aliases.update(more_aliases)\n",
    "print(hero_aliases)"
   ]
  },
  {
   "cell_type": "code",
   "execution_count": 56,
   "id": "8da2e556",
   "metadata": {},
   "outputs": [
    {
     "name": "stdout",
     "output_type": "stream",
     "text": [
      "{'Superman': 'Man of Steel', 'Batman': 'Dark Knight', 'Flash': 'Fastest Man Alive', 'Wonder Woman': 'Amazon Princess', 'Green Lantern': 'Emerald Knight'}\n",
      "{'Superman': 'Man of Steel', 'Batman': 'Dark Knight', 'Wonder Woman': 'Amazon Princess', 'Green Lantern': 'Emerald Knight'}\n",
      "Fastest Man Alive\n"
     ]
    }
   ],
   "source": [
    "# Deleting and popping items from a dictionary\n",
    "del hero_aliases[\"Cyborg\"]\n",
    "print(hero_aliases)\n",
    "popped_alias = hero_aliases.pop(\"Flash\")\n",
    "print(hero_aliases)\n",
    "print(popped_alias)"
   ]
  },
  {
   "cell_type": "code",
   "execution_count": 58,
   "id": "788ac118",
   "metadata": {},
   "outputs": [
    {
     "name": "stdout",
     "output_type": "stream",
     "text": [
      "Superman is also known as Man of Steel.\n",
      "Batman is also known as Dark Knight.\n",
      "Wonder Woman is also known as Amazon Princess.\n",
      "Green Lantern is also known as Emerald Knight.\n",
      "----------------------------------------\n",
      "Batman is also known as Dark Knight.\n"
     ]
    }
   ],
   "source": [
    "# Pythonical dictionary usage\n",
    "for hero, alias in hero_aliases.items():\n",
    "    print(f\"{hero} is also known as {alias}.\")\n",
    "\n",
    "# seperator\n",
    "print(\"-\" * 40)\n",
    "\n",
    "# in instead of get() since it needs extra function call\n",
    "if \"Batman\" in hero_aliases:\n",
    "    print(f\"Batman is also known as {hero_aliases['Batman']}.\")"
   ]
  },
  {
   "cell_type": "code",
   "execution_count": 59,
   "id": "15b64ec5",
   "metadata": {},
   "outputs": [
    {
     "name": "stdout",
     "output_type": "stream",
     "text": [
      "{'Superman': 'Man of Steel', 'Batman': 'Dark Knight', 'Wonder Woman': 'Amazon Princess'}\n",
      "The Demonic Daughter\n"
     ]
    }
   ],
   "source": [
    "# Nested dictionaries\n",
    "nested_hero_aliases = {\n",
    "    \"Justice League\": {\n",
    "        \"Superman\": \"Man of Steel\",\n",
    "        \"Batman\": \"Dark Knight\",\n",
    "        \"Wonder Woman\": \"Amazon Princess\"\n",
    "    },\n",
    "    \"Teen Titans\": {\n",
    "        \"Robin\": \"The Caped Crusader\",\n",
    "        \"Starfire\": \"Princess of Tamaran\",\n",
    "        \"Raven\": \"The Demonic Daughter\"\n",
    "    }\n",
    "}\n",
    "\n",
    "print(nested_hero_aliases[\"Justice League\"])\n",
    "print(nested_hero_aliases[\"Teen Titans\"][\"Raven\"])"
   ]
  },
  {
   "cell_type": "markdown",
   "id": "4f35218b",
   "metadata": {},
   "source": [
    "## CH3"
   ]
  },
  {
   "cell_type": "markdown",
   "id": "e79a6685",
   "metadata": {},
   "source": [
    "##### Numeric Data Types"
   ]
  },
  {
   "cell_type": "code",
   "execution_count": null,
   "id": "05acef64",
   "metadata": {},
   "outputs": [
    {
     "name": "stdout",
     "output_type": "stream",
     "text": [
      "12345678901234567890\n",
      "1.2345678901234567e+19\n"
     ]
    }
   ],
   "source": [
    "# Integer, float, decimal\n",
    "print(int(12345678901234567890))\n",
    "\n",
    "print(float(12345678901234567890)) # scientific notation"
   ]
  },
  {
   "cell_type": "code",
   "execution_count": 65,
   "id": "8f27e233",
   "metadata": {},
   "outputs": [
    {
     "name": "stdout",
     "output_type": "stream",
     "text": [
      "3.141593\n",
      "3.14\n"
     ]
    }
   ],
   "source": [
    "# Printing floats\n",
    "print(f\"{3.141592653589793:f}\") # default 6 decimal places\n",
    "print(f\"{3.141592653589793:.2f}\") # 2 decimal places"
   ]
  },
  {
   "cell_type": "code",
   "execution_count": 70,
   "id": "2d6d113e",
   "metadata": {},
   "outputs": [
    {
     "name": "stdout",
     "output_type": "stream",
     "text": [
      "0.30000000000000004\n",
      "False\n",
      "True\n"
     ]
    }
   ],
   "source": [
    "# Float arithmetic issues\n",
    "print(0.1 + 0.2)\n",
    "print(0.1 + 0.2 == 0.3) # False\n",
    "\n",
    "# Solution: Use decimal module for precise decimal arithmetic\n",
    "from decimal import Decimal\n",
    "print(Decimal(\"0.1\") + Decimal(\"0.2\") == Decimal(\"0.3\")) # True"
   ]
  },
  {
   "cell_type": "markdown",
   "id": "6799c6f9",
   "metadata": {},
   "source": [
    "##### Sets"
   ]
  },
  {
   "cell_type": "code",
   "execution_count": 86,
   "id": "a3fdb144",
   "metadata": {},
   "outputs": [
    {
     "name": "stdout",
     "output_type": "stream",
     "text": [
      "<class 'set'>\n",
      "{'Superman', 'Wonder Woman', 'Batman'}\n"
     ]
    }
   ],
   "source": [
    "# Creating a set\n",
    "heroes = {\"Superman\", \"Batman\", \"Wonder Woman\", \"Superman\"} # duplicate \"Superman\"\n",
    "heroes_set = set(heroes) # removes duplicates\n",
    "print(type(heroes_set))\n",
    "print(heroes_set)"
   ]
  },
  {
   "cell_type": "code",
   "execution_count": 87,
   "id": "d924f3b5",
   "metadata": {},
   "outputs": [
    {
     "name": "stdout",
     "output_type": "stream",
     "text": [
      "{'Superman', 'Flash', 'Wonder Woman', 'Batman'}\n",
      "{'Batman', 'Superman', 'Green Lantern', 'Flash', 'Wonder Woman', 'Cyborg'}\n"
     ]
    }
   ],
   "source": [
    "heroes_set.add(\"Flash\")\n",
    "print(heroes_set)\n",
    "\n",
    "heroes_set.update({\"Green Lantern\", \"Cyborg\"})\n",
    "print(heroes_set)"
   ]
  },
  {
   "cell_type": "code",
   "execution_count": 88,
   "id": "ff3703d2",
   "metadata": {},
   "outputs": [
    {
     "name": "stdout",
     "output_type": "stream",
     "text": [
      "{'Batman', 'Superman', 'Green Lantern', 'Flash', 'Wonder Woman'}\n",
      "----------------------------------------\n",
      "Batman\n",
      "{'Superman', 'Green Lantern', 'Flash', 'Wonder Woman'}\n"
     ]
    }
   ],
   "source": [
    "# Removing items from a set by discard() and pop()\n",
    "heroes_set.discard(\"Cyborg\") # no error if not found\n",
    "print(heroes_set)\n",
    "\n",
    "# seperator\n",
    "print(\"-\" * 40)\n",
    "\n",
    "hero = heroes_set.pop() # removes and returns an arbitrary item\n",
    "print(hero)\n",
    "print(heroes_set)"
   ]
  },
  {
   "cell_type": "code",
   "execution_count": 94,
   "id": "bdd8d05f",
   "metadata": {},
   "outputs": [
    {
     "name": "stdout",
     "output_type": "stream",
     "text": [
      "{'Nightwing', 'Robin', 'Batman', 'Superman', 'Batgirl', 'Wonder Woman'}\n",
      "{'Batman'}\n",
      "{'Nightwing', 'Robin', 'Batgirl'}\n",
      "{'Nightwing', 'Robin', 'Superman', 'Batgirl', 'Wonder Woman'}\n"
     ]
    }
   ],
   "source": [
    "# Set operations\n",
    "dc_heroes = {\"Superman\", \"Batman\", \"Wonder Woman\"}\n",
    "batman_family = {\"Robin\", \"Batgirl\", \"Nightwing\", \"Batman\"}\n",
    "\n",
    "print(dc_heroes.union(batman_family)) # or dc_heroes | batman_family\n",
    "print(dc_heroes.intersection(batman_family)) # or dc_heroes & batman_family\n",
    "print(batman_family.difference(dc_heroes)) # or batman_family - dc_heroes\n",
    "print(dc_heroes.symmetric_difference(batman_family)) # items in either set but not both"
   ]
  },
  {
   "cell_type": "markdown",
   "id": "617f9f07",
   "metadata": {},
   "source": [
    "## CH4"
   ]
  },
  {
   "cell_type": "markdown",
   "id": "fd484595",
   "metadata": {},
   "source": [
    "##### Collections Module"
   ]
  },
  {
   "cell_type": "code",
   "execution_count": 100,
   "id": "5d9ddbe5",
   "metadata": {},
   "outputs": [
    {
     "name": "stdout",
     "output_type": "stream",
     "text": [
      "Counter({'Wonder Woman': 3000, 'Batman': 40, 'Superman': 35, 'Green Lantern': 32, 'Flash': 28})\n",
      "28\n",
      "[('Wonder Woman', 3000), ('Batman', 40)]\n"
     ]
    }
   ],
   "source": [
    "# Counter from collections module\n",
    "from collections import Counter\n",
    "# heroes age dictionary \n",
    "heroes_age = { \"Superman\": 35, \"Batman\": 40 , \"Wonder Woman\": 3000, \"Flash\": 28, \"Green Lantern\": 32, \"Flash\": 28}\n",
    "hero_age_counts = Counter(heroes_age)\n",
    "print(hero_age_counts)\n",
    "print(hero_age_counts[\"Flash\"])\n",
    "\n",
    "# Most common ages\n",
    "print(hero_age_counts.most_common(2)) # top 2 most common ages"
   ]
  },
  {
   "cell_type": "markdown",
   "id": "d412630d",
   "metadata": {},
   "source": [
    "##### Dictionaries of Unknown Structure"
   ]
  },
  {
   "cell_type": "code",
   "execution_count": 112,
   "id": "0e7a3e6b",
   "metadata": {},
   "outputs": [
    {
     "name": "stdout",
     "output_type": "stream",
     "text": [
      "[]\n",
      "defaultdict(<class 'list'>, {'Superman': ['Man of Steel', 'Last Son of Krypton'], 'Batman': []})\n"
     ]
    }
   ],
   "source": [
    "# Defaultdict from collections module\n",
    "from collections import defaultdict\n",
    "\n",
    "hero_aliases_default = defaultdict(list) # default value is an empty list\n",
    "hero_aliases_default[\"Superman\"].append(\"Man of Steel\")\n",
    "hero_aliases_default[\"Superman\"].append(\"Last Son of Krypton\")\n",
    "\n",
    "print(hero_aliases_default[\"Batman\"]) # empty list, no KeyError\n",
    "print(hero_aliases_default)"
   ]
  },
  {
   "cell_type": "markdown",
   "id": "7eef61f6",
   "metadata": {},
   "source": [
    "##### Named Tuples"
   ]
  },
  {
   "cell_type": "code",
   "execution_count": 117,
   "id": "f1268c6e",
   "metadata": {},
   "outputs": [
    {
     "name": "stdout",
     "output_type": "stream",
     "text": [
      "[Hero(name='Clark Kent', alias='Superman', age=35), Hero(name='Bruce Wayne', alias='Batman', age=40), Hero(name='Diana Prince', alias='Amazon Princess', age=3000)]\n",
      "Hero(name='Clark Kent', alias='Superman', age=35)\n",
      "Superman\n",
      "----------------------------------------\n",
      "Clark Kent is also known as Superman and is 35 years old.\n",
      "Bruce Wayne is also known as Batman and is 40 years old.\n",
      "Diana Prince is also known as Amazon Princess and is 3000 years old.\n"
     ]
    }
   ],
   "source": [
    "# Named Tuples\n",
    "from collections import namedtuple # namedtuple is immutable like a tuple but has named fields for better readability and access by name\n",
    "Hero = namedtuple(\"Hero\", [\"name\", \"alias\", \"age\"])\n",
    "heroes_dict = [{\"name\": \"Clark Kent\", \"alias\": \"Superman\", \"age\": 35}, {\"name\": \"Bruce Wayne\", \"alias\": \"Batman\", \"age\": 40}, {\"name\": \"Diana Prince\", \"alias\": \"Amazon Princess\", \"age\": 3000}]\n",
    "heroes = []\n",
    "\n",
    "for hero_data in heroes_dict:\n",
    "    hero = Hero(hero_data[\"name\"], hero_data[\"alias\"], hero_data[\"age\"])\n",
    "    heroes.append(hero)\n",
    "\n",
    "print(heroes)\n",
    "print(heroes[0])\n",
    "print(heroes[0].alias)\n",
    "\n",
    "# seperator\n",
    "print(\"-\" * 40)\n",
    "\n",
    "for hero in heroes[:3]:\n",
    "    print(f\"{hero.name} is also known as {hero.alias} and is {hero.age} years old.\")"
   ]
  },
  {
   "cell_type": "markdown",
   "id": "5728e582",
   "metadata": {},
   "source": [
    "##### Dataclasses"
   ]
  },
  {
   "cell_type": "code",
   "execution_count": 120,
   "id": "0b52f29e",
   "metadata": {},
   "outputs": [
    {
     "name": "stdout",
     "output_type": "stream",
     "text": [
      "Hero(name='Clark Kent', alias='Superman', age=35)\n",
      "Clark Kent\n"
     ]
    }
   ],
   "source": [
    "# Dataclasses\n",
    "from dataclasses import dataclass\n",
    "@dataclass\n",
    "class Hero:\n",
    "    name: str\n",
    "    alias: str\n",
    "    age: int\n",
    "\n",
    "superman = Hero(\"Clark Kent\", \"Superman\", 35)\n",
    "print(superman)\n",
    "print(superman.name)"
   ]
  },
  {
   "cell_type": "code",
   "execution_count": 122,
   "id": "8d6ffb6a",
   "metadata": {},
   "outputs": [
    {
     "name": "stdout",
     "output_type": "stream",
     "text": [
      "{'name': 'Clark Kent', 'alias': 'Superman', 'age': 35}\n",
      "('Clark Kent', 'Superman', 35)\n"
     ]
    }
   ],
   "source": [
    "# Easy tuple and dictionary conversion\n",
    "from dataclasses import asdict, astuple\n",
    "print(asdict(superman)) # converts to dictionary\n",
    "print(astuple(superman)) # converts to tuple"
   ]
  },
  {
   "cell_type": "code",
   "execution_count": 124,
   "id": "472d74d6",
   "metadata": {},
   "outputs": [
    {
     "name": "stdout",
     "output_type": "stream",
     "text": [
      "Batman says 'Justice shall prevail!'\n"
     ]
    }
   ],
   "source": [
    "# Custom properties\n",
    "@dataclass\n",
    "class Hero:\n",
    "    name: str\n",
    "    alias: str\n",
    "    age: int\n",
    "\n",
    "    @property\n",
    "    def quote(self):\n",
    "        return f\"{self.alias} says 'Justice shall prevail!'\"\n",
    "\n",
    "batman = Hero(\"Bruce Wayne\", \"Batman\", 40)\n",
    "print(batman.quote) # No parentheses, accessed like an attribute"
   ]
  },
  {
   "cell_type": "code",
   "execution_count": 128,
   "id": "cbc0bebf",
   "metadata": {},
   "outputs": [
    {
     "name": "stdout",
     "output_type": "stream",
     "text": [
      "Error: cannot assign to field 'age'\n"
     ]
    }
   ],
   "source": [
    "# Frozen instances\n",
    "@dataclass(frozen=True)\n",
    "class Hero:\n",
    "    name: str\n",
    "    alias: str\n",
    "    age: int\n",
    "\n",
    "batman = Hero(\"Bruce Wayne\", \"Batman\", 40)\n",
    "try:\n",
    "    batman.age = 41 # Raises FrozenInstanceError\n",
    "except Exception as e:\n",
    "    print(f\"Error: {e}\")"
   ]
  }
 ],
 "metadata": {
  "kernelspec": {
   "display_name": "base",
   "language": "python",
   "name": "python3"
  },
  "language_info": {
   "codemirror_mode": {
    "name": "ipython",
    "version": 3
   },
   "file_extension": ".py",
   "mimetype": "text/x-python",
   "name": "python",
   "nbconvert_exporter": "python",
   "pygments_lexer": "ipython3",
   "version": "3.12.4"
  }
 },
 "nbformat": 4,
 "nbformat_minor": 5
}

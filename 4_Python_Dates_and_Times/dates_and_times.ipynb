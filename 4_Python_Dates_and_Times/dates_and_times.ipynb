{
 "cells": [
  {
   "cell_type": "markdown",
   "id": "7330a659",
   "metadata": {},
   "source": [
    "## CH1"
   ]
  },
  {
   "cell_type": "code",
   "execution_count": 4,
   "id": "3f23c90c",
   "metadata": {},
   "outputs": [
    {
     "name": "stdout",
     "output_type": "stream",
     "text": [
      "2016\n",
      "10\n",
      "7\n",
      "4\n"
     ]
    }
   ],
   "source": [
    "# Creating date objects\n",
    "from datetime import date\n",
    "\n",
    "# Create dates\n",
    "dates = [date(2016, 10, 7), date(2016, 11, 12)]\n",
    "\n",
    "# Attributes of date objects\n",
    "print(dates[0].year)\n",
    "print(dates[0].month)\n",
    "print(dates[0].day)\n",
    "\n",
    "# Weekday of a Date\n",
    "print(dates[0].weekday()) # 0 = Monday, 1 = Tuesday, ..."
   ]
  },
  {
   "cell_type": "markdown",
   "id": "092137df",
   "metadata": {},
   "source": [
    "##### Math with Dates"
   ]
  },
  {
   "cell_type": "code",
   "execution_count": 7,
   "id": "9c579586",
   "metadata": {},
   "outputs": [
    {
     "name": "stdout",
     "output_type": "stream",
     "text": [
      "2024-11-23\n",
      "291 days, 0:00:00\n",
      "291\n"
     ]
    }
   ],
   "source": [
    "d1 = date(2025, 9, 10)\n",
    "d2 = date(2024, 11, 23)\n",
    "\n",
    "dates = [d1, d2]\n",
    "print(min(dates))\n",
    "\n",
    "# Substract two dates\n",
    "delta = d1 - d2\n",
    "print(delta)\n",
    "print(delta.days)"
   ]
  },
  {
   "cell_type": "code",
   "execution_count": 9,
   "id": "87dda2cf",
   "metadata": {},
   "outputs": [
    {
     "name": "stdout",
     "output_type": "stream",
     "text": [
      "2025-09-10\n",
      "True\n"
     ]
    }
   ],
   "source": [
    "# Timedelta\n",
    "from datetime import timedelta\n",
    "\n",
    "# 291 day timedelta\n",
    "td = timedelta(days=291)\n",
    "\n",
    "print(d2 + td)\n",
    "print(d2 + td == d1)"
   ]
  },
  {
   "cell_type": "markdown",
   "id": "defe6952",
   "metadata": {},
   "source": []
  }
 ],
 "metadata": {
  "kernelspec": {
   "display_name": "base",
   "language": "python",
   "name": "python3"
  },
  "language_info": {
   "codemirror_mode": {
    "name": "ipython",
    "version": 3
   },
   "file_extension": ".py",
   "mimetype": "text/x-python",
   "name": "python",
   "nbconvert_exporter": "python",
   "pygments_lexer": "ipython3",
   "version": "3.12.4"
  }
 },
 "nbformat": 4,
 "nbformat_minor": 5
}

{
 "cells": [
  {
   "cell_type": "markdown",
   "id": "7330a659",
   "metadata": {},
   "source": [
    "## CH1"
   ]
  },
  {
   "cell_type": "code",
   "execution_count": 4,
   "id": "3f23c90c",
   "metadata": {},
   "outputs": [
    {
     "name": "stdout",
     "output_type": "stream",
     "text": [
      "2016\n",
      "10\n",
      "7\n",
      "4\n"
     ]
    }
   ],
   "source": [
    "# Creating date objects\n",
    "from datetime import date\n",
    "\n",
    "# Create dates\n",
    "dates = [date(2016, 10, 7), date(2016, 11, 12)]\n",
    "\n",
    "# Attributes of date objects\n",
    "print(dates[0].year)\n",
    "print(dates[0].month)\n",
    "print(dates[0].day)\n",
    "\n",
    "# Weekday of a Date\n",
    "print(dates[0].weekday()) # 0 = Monday, 1 = Tuesday, ..."
   ]
  },
  {
   "cell_type": "markdown",
   "id": "092137df",
   "metadata": {},
   "source": [
    "##### Math with Dates"
   ]
  },
  {
   "cell_type": "code",
   "execution_count": 7,
   "id": "9c579586",
   "metadata": {},
   "outputs": [
    {
     "name": "stdout",
     "output_type": "stream",
     "text": [
      "2024-11-23\n",
      "291 days, 0:00:00\n",
      "291\n"
     ]
    }
   ],
   "source": [
    "d1 = date(2025, 9, 10)\n",
    "d2 = date(2024, 11, 23)\n",
    "\n",
    "dates = [d1, d2]\n",
    "print(min(dates))\n",
    "\n",
    "# Substract two dates\n",
    "delta = d1 - d2\n",
    "print(delta)\n",
    "print(delta.days)"
   ]
  },
  {
   "cell_type": "code",
   "execution_count": 9,
   "id": "87dda2cf",
   "metadata": {},
   "outputs": [
    {
     "name": "stdout",
     "output_type": "stream",
     "text": [
      "2025-09-10\n",
      "True\n"
     ]
    }
   ],
   "source": [
    "# Timedelta\n",
    "from datetime import timedelta\n",
    "\n",
    "# 291 day timedelta\n",
    "td = timedelta(days=291)\n",
    "\n",
    "print(d2 + td)\n",
    "print(d2 + td == d1)"
   ]
  },
  {
   "cell_type": "markdown",
   "id": "defe6952",
   "metadata": {},
   "source": [
    "##### Dates into strings"
   ]
  },
  {
   "cell_type": "code",
   "execution_count": 1,
   "id": "90e1b8a3",
   "metadata": {},
   "outputs": [
    {
     "name": "stdout",
     "output_type": "stream",
     "text": [
      "2025-09-10\n"
     ]
    }
   ],
   "source": [
    "from datetime import date\n",
    "\n",
    "d = date(2025, 9, 10)\n",
    "# ISO format: YYYY-MM-DD\n",
    "print(d)"
   ]
  },
  {
   "cell_type": "code",
   "execution_count": 4,
   "id": "7ae5bcba",
   "metadata": {},
   "outputs": [
    {
     "name": "stdout",
     "output_type": "stream",
     "text": [
      "2025\n",
      "Year is 2025\n",
      "2025/09/10\n"
     ]
    }
   ],
   "source": [
    "# strftime\n",
    "print(d.strftime(\"%Y\"))\n",
    "print(d.strftime(\"Year is %Y\"))\n",
    "print(d.strftime(\"%Y/%m/%d\"))\n"
   ]
  },
  {
   "cell_type": "markdown",
   "id": "ed2c127e",
   "metadata": {},
   "source": [
    "## CH2"
   ]
  },
  {
   "cell_type": "markdown",
   "id": "fc54fea4",
   "metadata": {},
   "source": [
    "##### Date and Times"
   ]
  },
  {
   "cell_type": "code",
   "execution_count": 5,
   "id": "9c04c5f2",
   "metadata": {},
   "outputs": [
    {
     "name": "stdout",
     "output_type": "stream",
     "text": [
      "2025-09-10 10:24:12.500000\n"
     ]
    }
   ],
   "source": [
    "from datetime import datetime\n",
    "\n",
    "dt = datetime(year=2025, month=9, day=10, hour=10, minute=24, second=12, microsecond=500000) \n",
    "print(dt)"
   ]
  },
  {
   "cell_type": "code",
   "execution_count": null,
   "id": "3b41c5cc",
   "metadata": {},
   "outputs": [
    {
     "name": "stdout",
     "output_type": "stream",
     "text": [
      "2025-09-10 10:00:00\n"
     ]
    }
   ],
   "source": [
    "# Replace parts of a datetime\n",
    "dt_hr = dt.replace(minute=0, second=0, microsecond=0)\n",
    "print(dt_hr)"
   ]
  },
  {
   "cell_type": "code",
   "execution_count": 9,
   "id": "cdadf5f5",
   "metadata": {},
   "outputs": [
    {
     "name": "stdout",
     "output_type": "stream",
     "text": [
      "2025-09-10\n",
      "2025-09-10 10:24:12\n",
      "2025-09-10T10:24:12.500000\n"
     ]
    }
   ],
   "source": [
    "# Printing datetimes\n",
    "print(dt.strftime(\"%Y-%m-%d\"))\n",
    "print(dt.strftime(\"%Y-%m-%d %H:%M:%S\"))\n",
    "\n",
    "# ISO 8601 format\n",
    "print(dt.isoformat())\n"
   ]
  },
  {
   "cell_type": "code",
   "execution_count": 10,
   "id": "de89e422",
   "metadata": {},
   "outputs": [
    {
     "name": "stdout",
     "output_type": "stream",
     "text": [
      "<class 'datetime.datetime'>\n",
      "2025-09-10 10:24:12\n"
     ]
    }
   ],
   "source": [
    "# Parsing datetime with strptime\n",
    "dt = datetime.strptime(\"10/9/2025 10:24:12\", \"%d/%m/%Y %H:%M:%S\")\n",
    "print(type(dt))\n",
    "print(dt)"
   ]
  },
  {
   "cell_type": "code",
   "execution_count": 17,
   "id": "750a2737",
   "metadata": {},
   "outputs": [
    {
     "name": "stdout",
     "output_type": "stream",
     "text": [
      "2025-09-10 10:24:12\n"
     ]
    }
   ],
   "source": [
    "# Timestamp\n",
    "ts = 1757489052.0\n",
    "print(datetime.fromtimestamp(ts))"
   ]
  },
  {
   "cell_type": "markdown",
   "id": "2898984b",
   "metadata": {},
   "source": [
    "##### Durations"
   ]
  },
  {
   "cell_type": "code",
   "execution_count": 19,
   "id": "37e6e534",
   "metadata": {},
   "outputs": [
    {
     "name": "stdout",
     "output_type": "stream",
     "text": [
      "208 days, 20:02:02\n",
      "18043322.0\n"
     ]
    }
   ],
   "source": [
    "start = datetime(2025, 9, 10, 10, 24, 12)\n",
    "end = datetime(2025, 2, 13, 14, 22, 10)\n",
    "\n",
    "duration = start - end\n",
    "print(duration)\n",
    "print(duration.total_seconds())"
   ]
  },
  {
   "cell_type": "markdown",
   "id": "a1e46b9e",
   "metadata": {},
   "source": [
    "##### Timedeltas"
   ]
  },
  {
   "cell_type": "code",
   "execution_count": 22,
   "id": "7632b777",
   "metadata": {},
   "outputs": [
    {
     "name": "stdout",
     "output_type": "stream",
     "text": [
      "2025-09-10 10:24:12\n",
      "2025-09-10 10:24:13\n",
      "2025-09-11 10:24:13\n",
      "2025-09-03 10:24:12\n"
     ]
    }
   ],
   "source": [
    "from datetime import timedelta\n",
    "\n",
    "delta1 = timedelta(seconds=1)\n",
    "delta2 = timedelta(days=1, seconds=1)\n",
    "delta3 = timedelta(weeks=-1)\n",
    "\n",
    "print(start)\n",
    "print(start + delta1) # 1 second later\n",
    "print(start + delta2) # 1 day and 1 second later\n",
    "print(start + delta3) # 1 week earlier"
   ]
  },
  {
   "cell_type": "markdown",
   "id": "f9bf4c0b",
   "metadata": {},
   "source": [
    "## CH3"
   ]
  },
  {
   "cell_type": "markdown",
   "id": "6bb50f24",
   "metadata": {},
   "source": [
    "##### UTC"
   ]
  },
  {
   "cell_type": "code",
   "execution_count": 23,
   "id": "6801ba59",
   "metadata": {},
   "outputs": [
    {
     "name": "stdout",
     "output_type": "stream",
     "text": [
      "2025-09-10 15:30:25+03:00\n"
     ]
    }
   ],
   "source": [
    "from datetime import datetime, timedelta, timezone\n",
    "EEST = timezone(timedelta(hours=3)) # Eastern European Summer Time\n",
    "# Timezone-aware datetime\n",
    "dt = datetime(2025, 9, 10, 15, 30, 25, tzinfo = EEST)\n",
    "print(dt)\n"
   ]
  },
  {
   "cell_type": "code",
   "execution_count": 24,
   "id": "f2d82a87",
   "metadata": {},
   "outputs": [
    {
     "name": "stdout",
     "output_type": "stream",
     "text": [
      "2025-09-10 14:30:25+02:00\n"
     ]
    }
   ],
   "source": [
    "# Central European Summer Time\n",
    "CEST = timezone(timedelta(hours=2))\n",
    "# Convert to CEST\n",
    "print(dt.astimezone(CEST))"
   ]
  },
  {
   "cell_type": "code",
   "execution_count": 29,
   "id": "9d893402",
   "metadata": {},
   "outputs": [
    {
     "name": "stdout",
     "output_type": "stream",
     "text": [
      "2025-09-10 15:30:25+00:00\n",
      "2025-09-10 15:30:25+03:00\n",
      "------------------------------\n",
      "2025-09-10 12:30:25+00:00\n"
     ]
    }
   ],
   "source": [
    "print(dt.replace(tzinfo=timezone.utc))\n",
    "print(dt)\n",
    "\n",
    "# seperator\n",
    "print(\"-\" * 30)\n",
    "\n",
    "# Change original to match utc\n",
    "print(dt.astimezone(timezone.utc))"
   ]
  },
  {
   "cell_type": "markdown",
   "id": "a3a4c608",
   "metadata": {},
   "source": [
    "##### Timezone Database"
   ]
  },
  {
   "cell_type": "code",
   "execution_count": 30,
   "id": "637bc41c",
   "metadata": {},
   "outputs": [
    {
     "name": "stdout",
     "output_type": "stream",
     "text": [
      "2025-09-10 15:30:25-04:00\n"
     ]
    }
   ],
   "source": [
    "from datetime import datetime\n",
    "from dateutil import tz\n",
    "\n",
    "# Eastern USA time\n",
    "et = tz.gettz(\"America/New_York\")\n",
    "\n",
    "dt = datetime(2025, 9, 10, 15, 30, 25, tzinfo = et)\n",
    "print(dt)"
   ]
  }
 ],
 "metadata": {
  "kernelspec": {
   "display_name": "base",
   "language": "python",
   "name": "python3"
  },
  "language_info": {
   "codemirror_mode": {
    "name": "ipython",
    "version": 3
   },
   "file_extension": ".py",
   "mimetype": "text/x-python",
   "name": "python",
   "nbconvert_exporter": "python",
   "pygments_lexer": "ipython3",
   "version": "3.12.4"
  }
 },
 "nbformat": 4,
 "nbformat_minor": 5
}

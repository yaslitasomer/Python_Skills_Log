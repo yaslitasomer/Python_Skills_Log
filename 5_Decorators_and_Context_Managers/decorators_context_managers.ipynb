{
 "cells": [
  {
   "cell_type": "markdown",
   "id": "fbe6c32c",
   "metadata": {},
   "source": [
    "## CH1 : Context Managers"
   ]
  },
  {
   "cell_type": "code",
   "execution_count": 2,
   "id": "2322aa9c",
   "metadata": {},
   "outputs": [
    {
     "name": "stdout",
     "output_type": "stream",
     "text": [
      "Hello\n",
      "foo is 100\n",
      "Goodbye\n"
     ]
    }
   ],
   "source": [
    "# Function based\n",
    "import contextlib\n",
    "\n",
    "@contextlib.contextmanager\n",
    "def my_context():\n",
    "    print(\"Hello\")\n",
    "    yield 100\n",
    "    print(\"Goodbye\")\n",
    "\n",
    "with my_context() as foo:\n",
    "    print(\"foo is {}\".format(foo))\n"
   ]
  },
  {
   "cell_type": "markdown",
   "id": "8018defd",
   "metadata": {},
   "source": [
    "## CH2: Decorators"
   ]
  },
  {
   "cell_type": "code",
   "execution_count": 6,
   "id": "5b296e43",
   "metadata": {},
   "outputs": [
    {
     "name": "stdout",
     "output_type": "stream",
     "text": [
      "<class 'builtin_function_or_method'>\n",
      "Hello World!\n"
     ]
    }
   ],
   "source": [
    "x = print\n",
    "print(type(x))\n",
    "x(\"Hello World!\")"
   ]
  },
  {
   "cell_type": "code",
   "execution_count": 1,
   "id": "0939e65c",
   "metadata": {},
   "outputs": [
    {
     "name": "stdout",
     "output_type": "stream",
     "text": [
      "Hello\n",
      "World!\n"
     ]
    }
   ],
   "source": [
    "# Lists and dictionaries of functions\n",
    "func_list = [round, range, print]\n",
    "func_list[2](\"Hello\")\n",
    "\n",
    "func_dict = {\"func1\" : round, \"func2\" : range, \"func3\" : print}\n",
    "func_dict[\"func3\"](\"World!\")"
   ]
  },
  {
   "cell_type": "code",
   "execution_count": 2,
   "id": "6276ceec",
   "metadata": {},
   "outputs": [
    {
     "name": "stdout",
     "output_type": "stream",
     "text": [
      "False\n",
      "True\n"
     ]
    }
   ],
   "source": [
    "# Functions as arguments\n",
    "def has_docstring(func):\n",
    "    \"\"\"Check to see if the function `func` has a docstring.\n",
    "\n",
    "    Args:\n",
    "        func (callable): A function.\n",
    "\n",
    "    Returns:\n",
    "        bool\n",
    "    \"\"\"\n",
    "    return func.__doc__ is not None\n",
    "\n",
    "def foo():\n",
    "    return 42\n",
    "\n",
    "def bar():\n",
    "    '''Returns the value 42'''\n",
    "    return 42\n",
    "\n",
    "print(has_docstring(foo))\n",
    "print(has_docstring(bar))"
   ]
  },
  {
   "cell_type": "code",
   "execution_count": 3,
   "id": "80667d85",
   "metadata": {},
   "outputs": [
    {
     "name": "stdout",
     "output_type": "stream",
     "text": [
      "Alice\n",
      "Bob\n"
     ]
    }
   ],
   "source": [
    "# Nested functions\n",
    "def foo():\n",
    "    names = [\"AlIcE\", \"BOb\"]\n",
    "\n",
    "    def bar(x):\n",
    "        print(x.title())\n",
    "\n",
    "    for name in names:\n",
    "        bar(name)\n",
    "\n",
    "foo()"
   ]
  },
  {
   "cell_type": "code",
   "execution_count": 4,
   "id": "9ad9a796",
   "metadata": {},
   "outputs": [
    {
     "name": "stdout",
     "output_type": "stream",
     "text": [
      "hello world!\n"
     ]
    }
   ],
   "source": [
    "# Functions as return values\n",
    "def get_func():\n",
    "    def print_lower(x):\n",
    "        print(x.lower())\n",
    "\n",
    "    return print_lower\n",
    "\n",
    "print_func = get_func()\n",
    "print_func(\"HeLlO WoRlD!\")"
   ]
  },
  {
   "cell_type": "markdown",
   "id": "a6c83a71",
   "metadata": {},
   "source": [
    "##### Scope"
   ]
  },
  {
   "cell_type": "code",
   "execution_count": 7,
   "id": "bee0db07",
   "metadata": {},
   "outputs": [
    {
     "name": "stdout",
     "output_type": "stream",
     "text": [
      "10\n",
      "10\n"
     ]
    }
   ],
   "source": [
    "# Global keyword\n",
    "x = 7\n",
    "\n",
    "def foo():\n",
    "    global x\n",
    "    x = 10\n",
    "    print(x)\n",
    "\n",
    "foo()\n",
    "print(x)"
   ]
  },
  {
   "cell_type": "code",
   "execution_count": 15,
   "id": "0b9b734c",
   "metadata": {},
   "outputs": [
    {
     "name": "stdout",
     "output_type": "stream",
     "text": [
      "Inside foo function, x = 200\n",
      "7\n"
     ]
    }
   ],
   "source": [
    "# Nonlocal keyword\n",
    "x = 7\n",
    "\n",
    "def foo():\n",
    "    x = 10\n",
    "    def bar():\n",
    "        nonlocal x\n",
    "        x = 200\n",
    "    bar()\n",
    "    print(f\"Inside foo function, x = {x}\")\n",
    "\n",
    "foo()\n",
    "print(x)"
   ]
  },
  {
   "cell_type": "markdown",
   "id": "f7950dad",
   "metadata": {},
   "source": [
    "##### Closures"
   ]
  },
  {
   "cell_type": "code",
   "execution_count": 18,
   "id": "94c23b01",
   "metadata": {},
   "outputs": [
    {
     "name": "stdout",
     "output_type": "stream",
     "text": [
      "5\n",
      "<class 'tuple'>\n",
      "1\n",
      "5\n"
     ]
    }
   ],
   "source": [
    "# Attaching nonlocal variables to nested functions\n",
    "def foo():\n",
    "    a = 5\n",
    "    def bar():\n",
    "        print(a)\n",
    "    return bar\n",
    "\n",
    "func = foo()\n",
    "func()\n",
    "print(type(func.__closure__))\n",
    "print(len(func.__closure__))\n",
    "print(func.__closure__[0].cell_contents)\n"
   ]
  },
  {
   "cell_type": "code",
   "execution_count": null,
   "id": "51f35d2c",
   "metadata": {},
   "outputs": [
    {
     "name": "stdout",
     "output_type": "stream",
     "text": [
      "25\n",
      "25\n"
     ]
    }
   ],
   "source": [
    "# Closures and deletion\n",
    "x = 25\n",
    "\n",
    "def foo(value):\n",
    "    def bar():\n",
    "        print(value)\n",
    "    return bar\n",
    "\n",
    "func = foo(x)\n",
    "func()\n",
    "\n",
    "del x\n",
    "func()"
   ]
  },
  {
   "cell_type": "markdown",
   "id": "b4ac9248",
   "metadata": {},
   "source": [
    "##### Decorators"
   ]
  },
  {
   "cell_type": "code",
   "execution_count": 21,
   "id": "a476b1ea",
   "metadata": {},
   "outputs": [
    {
     "name": "stdout",
     "output_type": "stream",
     "text": [
      "200\n"
     ]
    }
   ],
   "source": [
    "def double_args(func):\n",
    "    def wrapper(a, b):\n",
    "        return func(a*2, b*2)\n",
    "    return wrapper\n",
    "\n",
    "@double_args\n",
    "def multiply(a, b):\n",
    "    return a * b\n",
    "\n",
    "print(multiply(5, 10))"
   ]
  },
  {
   "cell_type": "markdown",
   "id": "1ec784b4",
   "metadata": {},
   "source": [
    "## CH3: Real-world examples"
   ]
  },
  {
   "cell_type": "code",
   "execution_count": 22,
   "id": "8c6b77cb",
   "metadata": {},
   "outputs": [],
   "source": [
    "# Time a function\n",
    "import time\n",
    "\n",
    "def timer(func):\n",
    "    \"\"\"A decorator that prints how long a function took to run.\"\"\"\n",
    "    # Define the wrapper function to return.\n",
    "    def wrapper(*args, **kwargs):\n",
    "        # When wrapper() is called, get the current time.\n",
    "        t_start = time.time()\n",
    "        # Call the decorated function and store the result.\n",
    "        result = func(*args, **kwargs)\n",
    "        # Get the total time it took to run, and print it.\n",
    "        t_total = time.time() - t_start\n",
    "        print('{} took {}s'.format(func.__name__, t_total))\n",
    "        return result\n",
    "    return wrapper"
   ]
  },
  {
   "cell_type": "code",
   "execution_count": 23,
   "id": "23daf647",
   "metadata": {},
   "outputs": [
    {
     "name": "stdout",
     "output_type": "stream",
     "text": [
      "sleep_n_seconds took 5.000617027282715s\n",
      "sleep_n_seconds took 10.000498294830322s\n"
     ]
    }
   ],
   "source": [
    "@timer\n",
    "def sleep_n_seconds(n):\n",
    "    time.sleep(n)\n",
    "\n",
    "sleep_n_seconds(5)\n",
    "sleep_n_seconds(10)"
   ]
  },
  {
   "cell_type": "code",
   "execution_count": 24,
   "id": "d7dabcc7",
   "metadata": {},
   "outputs": [],
   "source": [
    "def memoize(func):\n",
    "    \"\"\"Store the results of the decorated function for fast lookup\n",
    "    \"\"\"\n",
    "    # Store results in a dict that maps arguments to results\n",
    "    cache = {}\n",
    "    # Define the wrapper function to return.\n",
    "    def wrapper(*args, **kwargs):\n",
    "        # Define a hashable key for 'kwargs'.\n",
    "        kwargs_key = tuple(sorted(kwargs.items()))\n",
    "        # If these arguments haven't been seen before,\n",
    "        if (args, kwargs_key) not in cache:\n",
    "            # Call func() and store the result.\n",
    "            cache[(args, kwargs_key)] = func(*args, **kwargs)\n",
    "        return cache[(args, kwargs_key)]\n",
    "    return wrapper"
   ]
  },
  {
   "cell_type": "code",
   "execution_count": 33,
   "id": "adb00855",
   "metadata": {},
   "outputs": [],
   "source": [
    "@memoize\n",
    "def slow_function(a, b):\n",
    "    print(\"Sleeping...\")\n",
    "    time.sleep(5)\n",
    "    return a + b"
   ]
  },
  {
   "cell_type": "code",
   "execution_count": 34,
   "id": "3e0661b8",
   "metadata": {},
   "outputs": [
    {
     "name": "stdout",
     "output_type": "stream",
     "text": [
      "Sleeping...\n",
      "7\n",
      "--------------------\n",
      "Sleeping...\n",
      "6\n",
      "--------------------\n",
      "7\n"
     ]
    }
   ],
   "source": [
    "print(slow_function(3, 4))\n",
    "print(\"-\"*20)\n",
    "print(slow_function(2, 4))\n",
    "print(\"-\"*20)\n",
    "print(slow_function(3, 4))"
   ]
  },
  {
   "cell_type": "markdown",
   "id": "522156e7",
   "metadata": {},
   "source": [
    "##### Decorators and Metadata"
   ]
  },
  {
   "cell_type": "code",
   "execution_count": 35,
   "id": "2ebf65b7",
   "metadata": {},
   "outputs": [
    {
     "name": "stdout",
     "output_type": "stream",
     "text": [
      "Pause processing for n seconds.\n",
      "\n",
      "    Args:\n",
      "        n (int): The number of seconds to pause for.\n",
      "    \n"
     ]
    }
   ],
   "source": [
    "import time\n",
    "def sleep_n_seconds(n = 10):\n",
    "    \"\"\"Pause processing for n seconds.\n",
    "\n",
    "    Args:\n",
    "        n (int): The number of seconds to pause for.\n",
    "    \"\"\"\n",
    "    time.sleep(n)\n",
    "\n",
    "print(sleep_n_seconds.__doc__)"
   ]
  },
  {
   "cell_type": "code",
   "execution_count": 37,
   "id": "919fd498",
   "metadata": {},
   "outputs": [
    {
     "name": "stdout",
     "output_type": "stream",
     "text": [
      "sleep_n_seconds\n",
      "(10,)\n"
     ]
    }
   ],
   "source": [
    "print(sleep_n_seconds.__name__)\n",
    "print(sleep_n_seconds.__defaults__)"
   ]
  }
 ],
 "metadata": {
  "kernelspec": {
   "display_name": "base",
   "language": "python",
   "name": "python3"
  },
  "language_info": {
   "codemirror_mode": {
    "name": "ipython",
    "version": 3
   },
   "file_extension": ".py",
   "mimetype": "text/x-python",
   "name": "python",
   "nbconvert_exporter": "python",
   "pygments_lexer": "ipython3",
   "version": "3.12.4"
  }
 },
 "nbformat": 4,
 "nbformat_minor": 5
}

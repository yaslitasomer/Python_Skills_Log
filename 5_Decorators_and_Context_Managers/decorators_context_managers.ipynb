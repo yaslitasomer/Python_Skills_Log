{
 "cells": [
  {
   "cell_type": "markdown",
   "id": "fbe6c32c",
   "metadata": {},
   "source": [
    "## CH1 : Context Managers"
   ]
  },
  {
   "cell_type": "code",
   "execution_count": 2,
   "id": "2322aa9c",
   "metadata": {},
   "outputs": [
    {
     "name": "stdout",
     "output_type": "stream",
     "text": [
      "Hello\n",
      "foo is 100\n",
      "Goodbye\n"
     ]
    }
   ],
   "source": [
    "# Function based\n",
    "import contextlib\n",
    "\n",
    "@contextlib.contextmanager\n",
    "def my_context():\n",
    "    print(\"Hello\")\n",
    "    yield 100\n",
    "    print(\"Goodbye\")\n",
    "\n",
    "with my_context() as foo:\n",
    "    print(\"foo is {}\".format(foo))\n"
   ]
  },
  {
   "cell_type": "markdown",
   "id": "8018defd",
   "metadata": {},
   "source": [
    "## CH2: Decorators"
   ]
  },
  {
   "cell_type": "code",
   "execution_count": 6,
   "id": "5b296e43",
   "metadata": {},
   "outputs": [
    {
     "name": "stdout",
     "output_type": "stream",
     "text": [
      "<class 'builtin_function_or_method'>\n",
      "Hello World!\n"
     ]
    }
   ],
   "source": [
    "x = print\n",
    "print(type(x))\n",
    "x(\"Hello World!\")"
   ]
  },
  {
   "cell_type": "code",
   "execution_count": 8,
   "id": "0939e65c",
   "metadata": {},
   "outputs": [
    {
     "name": "stdout",
     "output_type": "stream",
     "text": [
      "Hello\n",
      "World!\n"
     ]
    }
   ],
   "source": [
    "func_list = [round, range, print]\n",
    "func_list[2](\"Hello\")\n",
    "\n",
    "func_dict = {\"func1\" : round, \"func2\" : range, \"func3\" : print}\n",
    "func_dict[\"func3\"](\"World!\")"
   ]
  }
 ],
 "metadata": {
  "kernelspec": {
   "display_name": "base",
   "language": "python",
   "name": "python3"
  },
  "language_info": {
   "codemirror_mode": {
    "name": "ipython",
    "version": 3
   },
   "file_extension": ".py",
   "mimetype": "text/x-python",
   "name": "python",
   "nbconvert_exporter": "python",
   "pygments_lexer": "ipython3",
   "version": "3.12.4"
  }
 },
 "nbformat": 4,
 "nbformat_minor": 5
}

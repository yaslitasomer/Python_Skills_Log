{
 "cells": [
  {
   "cell_type": "markdown",
   "id": "2325055f",
   "metadata": {},
   "source": [
    "## CH1: OOP Fundamentals"
   ]
  },
  {
   "cell_type": "code",
   "execution_count": 2,
   "id": "1e22a9e7",
   "metadata": {},
   "outputs": [
    {
     "name": "stdout",
     "output_type": "stream",
     "text": [
      "I am Customer Robert\n",
      "0\n"
     ]
    }
   ],
   "source": [
    "class Customer:\n",
    "    def __init__(self, name, balance = 0):\n",
    "        self.set_name(name)\n",
    "        self.balance = balance\n",
    "    \n",
    "    def set_name(self, name):\n",
    "        self.name = name.title()\n",
    "    \n",
    "    def identify(self):\n",
    "        print(\"I am Customer \" + self.name)\n",
    "\n",
    "cust = Customer(\"RoBeRT\")\n",
    "cust.identify()\n",
    "print(cust.balance)"
   ]
  },
  {
   "cell_type": "markdown",
   "id": "ed49a2bf",
   "metadata": {},
   "source": [
    "## CH2: Inheritance and Polymorphism"
   ]
  },
  {
   "cell_type": "code",
   "execution_count": 9,
   "id": "4c644aa0",
   "metadata": {},
   "outputs": [
    {
     "name": "stdout",
     "output_type": "stream",
     "text": [
      "45000\n",
      "40000\n",
      "------\n",
      "40000\n",
      "40000\n",
      "------\n",
      "50000\n",
      "40000\n"
     ]
    }
   ],
   "source": [
    "# Class-level attributes\n",
    "class Employee:\n",
    "    MIN_SALARY = 40000\n",
    "\n",
    "    def __init__(self, name, salary):\n",
    "        self.name = name\n",
    "        if salary >= Employee.MIN_SALARY:\n",
    "            self.salary = salary\n",
    "        else:\n",
    "            self.salary = Employee.MIN_SALARY\n",
    "\n",
    "emp1 = Employee(\"Alice\", 45000)\n",
    "print(emp1.salary)\n",
    "print(emp1.MIN_SALARY)\n",
    "\n",
    "print(\"-\" * 6)\n",
    "\n",
    "emp2 = Employee(\"Bob\", 35000)\n",
    "print(emp2.salary)\n",
    "print(emp2.MIN_SALARY)\n",
    "\n",
    "print(\"-\" * 6)\n",
    "\n",
    "# Modifying class-level attributes\n",
    "emp1.MIN_SALARY = 50000\n",
    "\n",
    "print(emp1.MIN_SALARY)\n",
    "print(emp2.MIN_SALARY)"
   ]
  },
  {
   "cell_type": "markdown",
   "id": "7a22dc50",
   "metadata": {},
   "source": [
    "##### Class Methods"
   ]
  },
  {
   "cell_type": "code",
   "execution_count": 21,
   "id": "9f4e8fbc",
   "metadata": {},
   "outputs": [
    {
     "name": "stdout",
     "output_type": "stream",
     "text": [
      "Use Employee(name, salary) to create an instance of the Employee class.\n",
      "Alice: 50000\n",
      "Bob: 30000\n"
     ]
    }
   ],
   "source": [
    "class Employee:\n",
    "    def __init__(self, name, salary):\n",
    "        self.name = name\n",
    "        self.salary = salary\n",
    "    \n",
    "    @classmethod\n",
    "    def create_tips(cls):\n",
    "        print(\"Use Employee(name, salary) to create an instance of the Employee class.\")\n",
    "\n",
    "    @classmethod\n",
    "    def create_from_name_list(cls, nameList):\n",
    "        for name in nameList:\n",
    "            yield Employee(name, len(name) * 10000)\n",
    "        \n",
    "Employee.create_tips()\n",
    "\n",
    "emp1, emp2 = Employee.create_from_name_list([\"Alice\", \"Bob\"])\n",
    "print(emp1.name + f\": {emp1.salary}\")\n",
    "print(emp2.name + f\": {emp2.salary}\")\n"
   ]
  },
  {
   "cell_type": "markdown",
   "id": "8f690a53",
   "metadata": {},
   "source": [
    "##### Class Inheritance"
   ]
  },
  {
   "cell_type": "code",
   "execution_count": null,
   "id": "d653889c",
   "metadata": {},
   "outputs": [],
   "source": []
  }
 ],
 "metadata": {
  "kernelspec": {
   "display_name": "base",
   "language": "python",
   "name": "python3"
  },
  "language_info": {
   "codemirror_mode": {
    "name": "ipython",
    "version": 3
   },
   "file_extension": ".py",
   "mimetype": "text/x-python",
   "name": "python",
   "nbconvert_exporter": "python",
   "pygments_lexer": "ipython3",
   "version": "3.12.4"
  }
 },
 "nbformat": 4,
 "nbformat_minor": 5
}

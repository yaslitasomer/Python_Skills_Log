{
 "cells": [
  {
   "cell_type": "markdown",
   "id": "ae2389a7",
   "metadata": {},
   "source": [
    "## CH1: Overloading and Multiple Inheritance"
   ]
  },
  {
   "cell_type": "markdown",
   "id": "93b8be7b",
   "metadata": {},
   "source": [
    "##### Overloading the + operator"
   ]
  },
  {
   "cell_type": "code",
   "execution_count": 14,
   "id": "cd813630",
   "metadata": {},
   "outputs": [],
   "source": [
    "class Team:\n",
    "    def __init__(self, team_members):\n",
    "        self.team_members = team_members\n",
    "    \n",
    "    def __add__(self, other):\n",
    "        if type(other) == Employee:\n",
    "            return Team(self.team_members + [other.name])\n",
    "        else:\n",
    "            return Team(self.team_members + other.team_members)\n",
    "    \n",
    "class Employee:\n",
    "    def __init__(self, name, title):\n",
    "        self.name, self.title = name, title\n",
    "\n",
    "    def __add__(self, other):\n",
    "        return Team([self.name, other.name])"
   ]
  },
  {
   "cell_type": "code",
   "execution_count": 15,
   "id": "4d37cb5d",
   "metadata": {},
   "outputs": [],
   "source": [
    "emp1 = Employee(\"Alice\", \"engineer\")\n",
    "emp2 = Employee(\"Bob\", \"musician\")\n",
    "emp3 = Employee(\"Joe\", \"manager\")\n",
    "emp4 = Employee(\"Anna\", \"engineer\")"
   ]
  },
  {
   "cell_type": "code",
   "execution_count": 16,
   "id": "e1198e09",
   "metadata": {},
   "outputs": [
    {
     "name": "stdout",
     "output_type": "stream",
     "text": [
      "['Alice', 'Bob']\n",
      "['Joe', 'Anna']\n",
      "['Alice', 'Bob', 'Joe', 'Anna']\n",
      "['Alice', 'Bob', 'Joe', 'Anna', 'Kat']\n"
     ]
    }
   ],
   "source": [
    "team1 = emp1 + emp2\n",
    "team2 = emp3 + emp4\n",
    "\n",
    "print(team1.team_members)\n",
    "print(team2.team_members)\n",
    "\n",
    "team3 = team1 + team2\n",
    "print(team3.team_members)\n",
    "\n",
    "team4 = team3 + Employee(\"Kat\", \"engineer\")\n",
    "print(team4.team_members)"
   ]
  },
  {
   "cell_type": "markdown",
   "id": "e41f8c78",
   "metadata": {},
   "source": [
    "##### Method Resolution Order (MRO)"
   ]
  },
  {
   "cell_type": "code",
   "execution_count": 22,
   "id": "71a2f665",
   "metadata": {},
   "outputs": [],
   "source": [
    "class Engineer:\n",
    "    def __init__(self, name, company):\n",
    "        self.name, self.company = name, company\n",
    "    \n",
    "    def introduce(self):\n",
    "        print(f\"I am an engineer {self.name} who works at {self.company}.\")\n",
    "\n",
    "class Student:\n",
    "    def __init__(self, name, university):\n",
    "        self.name, self.university = name, university\n",
    "\n",
    "    def introduce(self):\n",
    "        print(f\"I am {self.name}. I am a student at {self.university}.\")\n",
    "\n",
    "class Intern(Student, Engineer):\n",
    "    def __init__(self, name, university, company):\n",
    "        Student.__init__(self, name, university)\n",
    "        Engineer.__init__(self, name, company)"
   ]
  },
  {
   "cell_type": "code",
   "execution_count": 23,
   "id": "c4a7744c",
   "metadata": {},
   "outputs": [
    {
     "name": "stdout",
     "output_type": "stream",
     "text": [
      "I am Omer. I am a student at METU.\n",
      "(<class '__main__.Intern'>, <class '__main__.Student'>, <class '__main__.Engineer'>, <class 'object'>)\n"
     ]
    }
   ],
   "source": [
    "omer = Intern(\"Omer\", \"METU\", \"PyTech\")\n",
    "omer.introduce()\n",
    "print(Intern.__mro__)"
   ]
  },
  {
   "cell_type": "markdown",
   "id": "0d00be36",
   "metadata": {},
   "source": [
    "## CH2: Custom Class Features and Type Hints"
   ]
  },
  {
   "cell_type": "markdown",
   "id": "da4a8c52",
   "metadata": {},
   "source": [
    "##### Type hints"
   ]
  },
  {
   "cell_type": "code",
   "execution_count": 25,
   "id": "2ee52664",
   "metadata": {},
   "outputs": [
    {
     "name": "stdout",
     "output_type": "stream",
     "text": [
      "PYTHON\n",
      "JAVA\n",
      "DART\n"
     ]
    }
   ],
   "source": [
    "from typing import List\n",
    "\n",
    "class Student:\n",
    "    def __init__(self, name: str, id: int, courses: List[str]) -> None:\n",
    "        self.name: str = name\n",
    "        self.id: int = id\n",
    "        self.courses: List[str] = courses\n",
    "    \n",
    "    def print_courses(self) -> None:\n",
    "        for course in self.courses:\n",
    "            print(course.upper())\n",
    "\n",
    "omer = Student(\"Omer\", 1, [\"python\", \"java\", \"dart\"])\n",
    "omer.print_courses()\n",
    "        "
   ]
  },
  {
   "cell_type": "markdown",
   "id": "bb52327f",
   "metadata": {},
   "source": [
    "##### Descriptors"
   ]
  },
  {
   "cell_type": "code",
   "execution_count": 27,
   "id": "2746406d",
   "metadata": {},
   "outputs": [],
   "source": [
    "class Student:\n",
    "    def __init__(self, name, ssn):\n",
    "        self.name, self.ssn = name, ssn\n",
    "    \n",
    "    @property\n",
    "    def ssn(self):\n",
    "        return \"XXX-XX-\" + self._ssn[-4:]\n",
    "    \n",
    "    @ssn.setter\n",
    "    def ssn(self, new_ssn):\n",
    "        if len(new_ssn) == 11:\n",
    "            self._ssn = new_ssn\n",
    "    \n",
    "    @ssn.deleter\n",
    "    def ssn(self):\n",
    "        print(\"Can't delete SSN\")"
   ]
  },
  {
   "cell_type": "code",
   "execution_count": 28,
   "id": "80ff6e92",
   "metadata": {},
   "outputs": [
    {
     "name": "stdout",
     "output_type": "stream",
     "text": [
      "XXX-XX-6789\n"
     ]
    }
   ],
   "source": [
    "omer = Student(\"Omer\", \"123-45-6789\")\n",
    "print(omer.ssn)"
   ]
  },
  {
   "cell_type": "code",
   "execution_count": 34,
   "id": "f3d1b662",
   "metadata": {},
   "outputs": [
    {
     "name": "stdout",
     "output_type": "stream",
     "text": [
      "XXX-XX-9029\n",
      "XXX-XX-9029\n",
      "Can't delete SSN\n",
      "XXX-XX-9029\n"
     ]
    }
   ],
   "source": [
    "omer.ssn = \"23456\"\n",
    "print(omer.ssn)\n",
    "\n",
    "omer.ssn = \"821-11-9029\"\n",
    "print(omer.ssn)\n",
    "\n",
    "del omer.ssn\n",
    "print(omer.ssn)"
   ]
  },
  {
   "cell_type": "markdown",
   "id": "d9976155",
   "metadata": {},
   "source": [
    "##### Attribute Access"
   ]
  },
  {
   "cell_type": "code",
   "execution_count": 57,
   "id": "0c07963b",
   "metadata": {},
   "outputs": [],
   "source": [
    "class Student:\n",
    "    def __init__(self, ssn):\n",
    "        self.ssn = ssn\n",
    "\n",
    "    def __getattr__(self, name):\n",
    "        self.__setattr__(name, None)\n",
    "\n",
    "    def __setattr__(self, name, value):\n",
    "        if value is None:\n",
    "            print(f\"Setting placeholder for {name}\")\n",
    "\n",
    "        elif (isinstance(value, str)) and (name != \"ssn\"):\n",
    "            print(f\"Setting {name} = {value}\")\n",
    "            self.__dict__[name] = value\n",
    "        \n",
    "        self.__dict__[name] = value"
   ]
  },
  {
   "cell_type": "code",
   "execution_count": 58,
   "id": "574547f3",
   "metadata": {},
   "outputs": [
    {
     "name": "stdout",
     "output_type": "stream",
     "text": [
      "Setting major = Ceng\n",
      "Ceng\n",
      "Setting placeholder for school\n",
      "None\n",
      "{'ssn': '1234', 'major': 'Ceng', 'school': None}\n"
     ]
    }
   ],
   "source": [
    "omer = Student(\"1234\")\n",
    "omer.major = \"Ceng\"\n",
    "print(omer.major)\n",
    "print(omer.school)\n",
    "print(omer.__dict__)"
   ]
  },
  {
   "cell_type": "markdown",
   "id": "641894ff",
   "metadata": {},
   "source": [
    "##### Custom iterators"
   ]
  },
  {
   "cell_type": "code",
   "execution_count": 61,
   "id": "b5c38083",
   "metadata": {},
   "outputs": [],
   "source": [
    "import random\n",
    "\n",
    "\n",
    "class CoinFlips:\n",
    "    def __init__(self, number_of_flips):\n",
    "        self.number_of_flips = number_of_flips\n",
    "        self.counter = 0\n",
    "    \n",
    "    def __iter__(self):\n",
    "        return self  # Return a reference of the iterator\n",
    "    \n",
    "    # Flip the next coin, return the output\n",
    "    def __next__(self):\n",
    "        if self.counter < self.number_of_flips:\n",
    "            self.counter += 1\n",
    "            return random.choice([\"H\", \"T\"])\n",
    "        else:\n",
    "            raise StopIteration"
   ]
  },
  {
   "cell_type": "code",
   "execution_count": 68,
   "id": "b6a50b06",
   "metadata": {},
   "outputs": [
    {
     "name": "stdout",
     "output_type": "stream",
     "text": [
      "T\n",
      "H\n",
      "T\n"
     ]
    }
   ],
   "source": [
    "three_flips = CoinFlips(3)\n",
    "for flip in three_flips:\n",
    "    print(flip)"
   ]
  },
  {
   "cell_type": "code",
   "execution_count": 71,
   "id": "c44a9ee6",
   "metadata": {},
   "outputs": [
    {
     "name": "stdout",
     "output_type": "stream",
     "text": [
      "T\n",
      "H\n",
      "T\n",
      "Completed all flips!\n"
     ]
    }
   ],
   "source": [
    "three_flips = CoinFlips(3)\n",
    "\n",
    "while True:\n",
    "    try:\n",
    "        print(next(three_flips))\n",
    "    except StopIteration:\n",
    "        print(\"Completed all flips!\")\n",
    "        break"
   ]
  },
  {
   "cell_type": "markdown",
   "id": "c18bac12",
   "metadata": {},
   "source": [
    "## CH3: Object-oriented design patterns"
   ]
  },
  {
   "cell_type": "markdown",
   "id": "53e17d46",
   "metadata": {},
   "source": [
    "##### Abstract base classes"
   ]
  },
  {
   "cell_type": "code",
   "execution_count": 72,
   "id": "f4a5d44e",
   "metadata": {},
   "outputs": [],
   "source": [
    "from abc import ABC, abstractmethod\n",
    "\n",
    "class School(ABC):\n",
    "    @abstractmethod\n",
    "    def enroll(self):\n",
    "        pass\n",
    "\n",
    "    def graduate(self):\n",
    "        print(\"Congrats on graduating!\")\n",
    "\n",
    "class University(School):\n",
    "    def enroll(self):\n",
    "        print(\"Welcome to university!\")"
   ]
  },
  {
   "cell_type": "code",
   "execution_count": 74,
   "id": "68dae666",
   "metadata": {},
   "outputs": [
    {
     "name": "stdout",
     "output_type": "stream",
     "text": [
      "Welcome to university!\n",
      "Congrats on graduating!\n"
     ]
    }
   ],
   "source": [
    "uni = University()\n",
    "uni.enroll()\n",
    "uni.graduate()"
   ]
  },
  {
   "cell_type": "markdown",
   "id": "bc048d70",
   "metadata": {},
   "source": [
    "##### Interfaces"
   ]
  },
  {
   "cell_type": "code",
   "execution_count": 76,
   "id": "92cda03f",
   "metadata": {},
   "outputs": [
    {
     "name": "stdout",
     "output_type": "stream",
     "text": [
      "Homework 100 assigned! Due date: 7 June\n",
      "Homework 100 graded!\n"
     ]
    }
   ],
   "source": [
    "from abc import ABC, abstractmethod\n",
    "\n",
    "class Course(ABC):\n",
    "    @abstractmethod\n",
    "    def assign_homework(self, assignment_number, due_date):\n",
    "        pass\n",
    "\n",
    "    @abstractmethod\n",
    "    def grade_assignment(self, assignment_number):\n",
    "        pass\n",
    "\n",
    "class ProgrammingCourse(Course):\n",
    "    def __init__(self, course_name):\n",
    "        self.course_name = course_name\n",
    "    \n",
    "    def assign_homework(self, assignment_number, due_date):\n",
    "        print(f\"Homework {assignment_number} assigned! Due date: {due_date}\")\n",
    "    \n",
    "    def grade_assignment(self, assignment_number):\n",
    "        print(f\"Homework {assignment_number} graded!\")\n",
    "\n",
    "p_course = ProgrammingCourse(\"Python\")\n",
    "p_course.assign_homework(100, \"7 June\")\n",
    "p_course.grade_assignment(100)"
   ]
  },
  {
   "cell_type": "markdown",
   "id": "df87ac49",
   "metadata": {},
   "source": [
    "##### Factory Methods"
   ]
  },
  {
   "cell_type": "code",
   "execution_count": 77,
   "id": "2078e088",
   "metadata": {},
   "outputs": [],
   "source": [
    "class Resource(ABC):\n",
    "    @abstractmethod\n",
    "    def reference(self, topic):\n",
    "        pass\n",
    "\n",
    "class Textbook(Resource):\n",
    "    def __init__(self):\n",
    "        self.index = {\"OOP\": [\"Inheritance\"]}\n",
    "    def reference(self, topic):\n",
    "        print(f\"Referencing {topic} using a textbook\")\n",
    "        return self.index.get(topic)\n",
    "    \n",
    "class Video(Resource):\n",
    "    def __init__(self):\n",
    "        self.index = {\"OOP\": [\"Multiple Inheritance\"]}\n",
    "    def reference(self, topic):\n",
    "        print(f\"Referencing {topic} using a video\")\n",
    "        return self.index.get(topic)"
   ]
  },
  {
   "cell_type": "code",
   "execution_count": 80,
   "id": "61c9e0bd",
   "metadata": {},
   "outputs": [],
   "source": [
    "class Student:\n",
    "    # Factory method to return Resource\n",
    "    def _get_resource(self, resource_type):\n",
    "        if resource_type == \"Textbook\":\n",
    "            return Textbook()\n",
    "    \n",
    "        elif resource_type == \"Video\":\n",
    "            return Video()\n",
    "\n",
    "    def explore_topic(self, resource_type, topic):\n",
    "        resource = self._get_resource(resource_type) # Retrieve the resource\n",
    "        print(resource.reference(topic))"
   ]
  },
  {
   "cell_type": "code",
   "execution_count": 81,
   "id": "dc9c7237",
   "metadata": {},
   "outputs": [
    {
     "name": "stdout",
     "output_type": "stream",
     "text": [
      "Referencing OOP using a textbook\n",
      "['Inheritance']\n",
      "Referencing OOP using a video\n",
      "['Multiple Inheritance']\n"
     ]
    }
   ],
   "source": [
    "# Create a Student object, then have it reference a textbook\n",
    "lester = Student()\n",
    "lester.explore_topic(\"Textbook\", \"OOP\")\n",
    "\n",
    "# Each to switch to another resource\n",
    "lester.explore_topic(\"Video\", \"OOP\")"
   ]
  }
 ],
 "metadata": {
  "kernelspec": {
   "display_name": "base",
   "language": "python",
   "name": "python3"
  },
  "language_info": {
   "codemirror_mode": {
    "name": "ipython",
    "version": 3
   },
   "file_extension": ".py",
   "mimetype": "text/x-python",
   "name": "python",
   "nbconvert_exporter": "python",
   "pygments_lexer": "ipython3",
   "version": "3.12.4"
  }
 },
 "nbformat": 4,
 "nbformat_minor": 5
}

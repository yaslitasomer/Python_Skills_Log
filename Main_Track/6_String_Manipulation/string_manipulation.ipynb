{
 "cells": [
  {
   "cell_type": "markdown",
   "id": "049719cb",
   "metadata": {},
   "source": [
    "## CH1: Basic Concepts"
   ]
  },
  {
   "cell_type": "code",
   "execution_count": 3,
   "id": "6d7e759e",
   "metadata": {},
   "outputs": [
    {
     "name": "stdout",
     "output_type": "stream",
     "text": [
      "Great day for coding.\n",
      "Get\n",
      "yad taerG\n"
     ]
    }
   ],
   "source": [
    "# Concatenation\n",
    "str1 = \"Great day\"\n",
    "str2 = \"for coding.\"\n",
    "print(str1 + \" \" + str2)\n",
    "\n",
    "# Stride\n",
    "print(str1[0:6:2])\n",
    "print(str1[::-1])"
   ]
  },
  {
   "cell_type": "code",
   "execution_count": 4,
   "id": "2030348a",
   "metadata": {},
   "outputs": [
    {
     "name": "stdout",
     "output_type": "stream",
     "text": [
      "Great day for coding\n"
     ]
    }
   ],
   "source": [
    "message = \"great day for coding\"\n",
    "print(message.capitalize())"
   ]
  },
  {
   "cell_type": "code",
   "execution_count": 12,
   "id": "65b0d18e",
   "metadata": {},
   "outputs": [
    {
     "name": "stdout",
     "output_type": "stream",
     "text": [
      "['This', 'string', 'will', 'be', 'split']\n",
      "['This', 'string', 'will be split']\n",
      "['This', 'string', 'will', 'be split']\n",
      "['This string', 'will', 'be', 'split']\n",
      "----------------------------------------\n",
      "['This string will be split', 'in two']\n"
     ]
    }
   ],
   "source": [
    "# Splitting\n",
    "message = \"This string will be split\"\n",
    "print(message.split(sep=\" \"))\n",
    "print(message.split(sep=\" \", maxsplit=2))\n",
    "print(message.split(sep=\" \", maxsplit=3))\n",
    "print(message.rsplit(sep=\" \", maxsplit=3))\n",
    "\n",
    "# seperator\n",
    "print(\"-\"*40)\n",
    "\n",
    "# splitlines\n",
    "message = \"This string will be split\\nin two\"\n",
    "print(message.splitlines())"
   ]
  },
  {
   "cell_type": "markdown",
   "id": "4087bd90",
   "metadata": {},
   "source": [
    "##### Joining\n",
    "Concatenate strings from list or another iterable"
   ]
  },
  {
   "cell_type": "code",
   "execution_count": 13,
   "id": "ecf8d73d",
   "metadata": {},
   "outputs": [
    {
     "name": "stdout",
     "output_type": "stream",
     "text": [
      "this would be a string\n"
     ]
    }
   ],
   "source": [
    "my_list = [\"this\", \"would\", \"be\", \"a\", \"string\"]\n",
    "print(\" \".join(my_list))"
   ]
  },
  {
   "cell_type": "code",
   "execution_count": 19,
   "id": "e66af600",
   "metadata": {},
   "outputs": [
    {
     "name": "stdout",
     "output_type": "stream",
     "text": [
      "This string will be stripped\n",
      "This string will be stripped\n",
      "\n",
      " This string will be stripped\n"
     ]
    }
   ],
   "source": [
    "# Stripping characters\n",
    "my_str = \" This string will be stripped\\n\"\n",
    "print(my_str.strip())\n",
    "print(my_str.lstrip())\n",
    "print(my_str.rstrip())"
   ]
  },
  {
   "cell_type": "markdown",
   "id": "a403ee25",
   "metadata": {},
   "source": [
    "##### Finding and Replacing"
   ]
  },
  {
   "cell_type": "code",
   "execution_count": 28,
   "id": "f5ed302f",
   "metadata": {},
   "outputs": [
    {
     "name": "stdout",
     "output_type": "stream",
     "text": [
      "14\n",
      "-1\n",
      "-1\n"
     ]
    }
   ],
   "source": [
    "my_str = \"Where is this place?\"\n",
    "print(my_str.find(\"place\"))\n",
    "print(my_str.find(\"there\"))\n",
    "print(my_str.find(\"place\", 0, 6))"
   ]
  },
  {
   "cell_type": "code",
   "execution_count": 31,
   "id": "1498b053",
   "metadata": {},
   "outputs": [
    {
     "name": "stdout",
     "output_type": "stream",
     "text": [
      "14\n"
     ]
    }
   ],
   "source": [
    "# Index function\n",
    "print(my_str.index(\"place\"))\n",
    "# print(my_str.index(\"there\")) (ValueError) "
   ]
  },
  {
   "cell_type": "code",
   "execution_count": 35,
   "id": "2d6c0804",
   "metadata": {},
   "outputs": [
    {
     "name": "stdout",
     "output_type": "stream",
     "text": [
      "2\n",
      "1\n"
     ]
    }
   ],
   "source": [
    "# Counting occurences\n",
    "my_str = \"How many games are there in your game folder\"\n",
    "print(my_str.count(\"game\"))\n",
    "print(my_str.count(\"game\", 0, 13))"
   ]
  },
  {
   "cell_type": "code",
   "execution_count": 36,
   "id": "8a6f12a3",
   "metadata": {},
   "outputs": [
    {
     "name": "stdout",
     "output_type": "stream",
     "text": [
      "The blue car is between the red car and the old car.\n",
      "The blue car is between the red car and the old house.\n"
     ]
    }
   ],
   "source": [
    "# Replacing substrings\n",
    "my_str = \"The blue house is between the red house and the old house.\"\n",
    "print(my_str.replace(\"house\", \"car\"))\n",
    "print(my_str.replace(\"house\", \"car\", 2)) # Replace only 2"
   ]
  },
  {
   "cell_type": "markdown",
   "id": "376d9249",
   "metadata": {},
   "source": [
    "## CH2: Formatting Strings"
   ]
  },
  {
   "cell_type": "markdown",
   "id": "43b9b719",
   "metadata": {},
   "source": [
    "##### Positional Formatting"
   ]
  },
  {
   "cell_type": "code",
   "execution_count": 38,
   "id": "a3d72b6a",
   "metadata": {},
   "outputs": [
    {
     "name": "stdout",
     "output_type": "stream",
     "text": [
      "String formatting is the current topic.\n"
     ]
    }
   ],
   "source": [
    "topic = \"String formatting\"\n",
    "print(f\"{topic} is the current topic.\")"
   ]
  },
  {
   "cell_type": "code",
   "execution_count": 42,
   "id": "1de5abf2",
   "metadata": {},
   "outputs": [
    {
     "name": "stdout",
     "output_type": "stream",
     "text": [
      "String formatting is the current topic.\n",
      "String formatting is the current topic.\n",
      "String formatting is the current topic.\n"
     ]
    }
   ],
   "source": [
    "print(\"{} is the {}\".format(topic, \"current topic.\"))\n",
    "print(\"{1} is the {0}\".format(\"current topic.\", topic))\n",
    "print(\"{topic} is the {end_sentence}\".format(end_sentence = \"current topic.\", topic = topic))"
   ]
  },
  {
   "cell_type": "code",
   "execution_count": 45,
   "id": "4066416c",
   "metadata": {},
   "outputs": [
    {
     "name": "stdout",
     "output_type": "stream",
     "text": [
      "Unsupervised algorithms try to find patterns in the dataset.\n"
     ]
    }
   ],
   "source": [
    "# Named placeholders\n",
    "methods = {\"tool\":\"Unsupervised algorithms\", \"goal\":\"patterns\"}\n",
    "print(\"{data[tool]} try to find {data[goal]} in the dataset.\".format(data=methods))"
   ]
  },
  {
   "cell_type": "code",
   "execution_count": 47,
   "id": "4c382c15",
   "metadata": {},
   "outputs": [
    {
     "name": "stdout",
     "output_type": "stream",
     "text": [
      "Only 0.516% of the data produced worldwide is analyzed!\n"
     ]
    }
   ],
   "source": [
    "# Format specifier -> {index:specifier}\n",
    "print(\"Only {0:.3f}% of the {1} produced worldwide is {2}!\".format(0.5155675, \"data\", \"analyzed\"))"
   ]
  },
  {
   "cell_type": "code",
   "execution_count": 48,
   "id": "59f7d074",
   "metadata": {},
   "outputs": [
    {
     "name": "stdout",
     "output_type": "stream",
     "text": [
      "Today's date is 2025-09-10 04:17\n"
     ]
    }
   ],
   "source": [
    "# Formatting datetime\n",
    "from datetime import datetime\n",
    "print(\"Today's date is {:%Y-%m-%d %H:%M}\".format(datetime.now()))"
   ]
  },
  {
   "cell_type": "code",
   "execution_count": 49,
   "id": "68446fb5",
   "metadata": {},
   "outputs": [
    {
     "name": "stdout",
     "output_type": "stream",
     "text": [
      "Python is called 'Python' due to a comedy series.\n"
     ]
    }
   ],
   "source": [
    "# Type conversion !s(str version) - !r(str containing printable representation) - !a(same as !r but escape non-ASCII characters)\n",
    "name = \"Python\"\n",
    "print(f\"Python is called {name!r} due to a comedy series.\")"
   ]
  },
  {
   "cell_type": "code",
   "execution_count": 50,
   "id": "84fc47ab",
   "metadata": {},
   "outputs": [
    {
     "name": "stdout",
     "output_type": "stream",
     "text": [
      "3 multiplied by 5 is 15\n"
     ]
    }
   ],
   "source": [
    "# Inline operations\n",
    "num = 3\n",
    "multiplier = 5\n",
    "\n",
    "print(f\"{num} multiplied by {multiplier} is {num * multiplier}\")"
   ]
  },
  {
   "cell_type": "code",
   "execution_count": 52,
   "id": "c9e67caa",
   "metadata": {},
   "outputs": [
    {
     "name": "stdout",
     "output_type": "stream",
     "text": [
      "If you sum up 10 and 20 the result is 30.\n"
     ]
    }
   ],
   "source": [
    "# Calling functions\n",
    "def func(a, b):\n",
    "    return a + b\n",
    "\n",
    "print(f\"If you sum up 10 and 20 the result is {func(10, 20)}.\")"
   ]
  },
  {
   "cell_type": "markdown",
   "id": "e427fe81",
   "metadata": {},
   "source": [
    "##### Template Strings"
   ]
  },
  {
   "cell_type": "code",
   "execution_count": 56,
   "id": "4113a3fc",
   "metadata": {},
   "outputs": [
    {
     "name": "stdout",
     "output_type": "stream",
     "text": [
      "Data Science has been called the sexiest job of the 21st century\n"
     ]
    }
   ],
   "source": [
    "from string import Template\n",
    "message = Template(\"Data Science has been called $identifier\")\n",
    "print(message.substitute(identifier = \"the sexiest job of the 21st century\"))"
   ]
  },
  {
   "cell_type": "code",
   "execution_count": 57,
   "id": "bb82dce5",
   "metadata": {},
   "outputs": [
    {
     "name": "stdout",
     "output_type": "stream",
     "text": [
      "Data Science has been called the sexiest job of the 21st century\n"
     ]
    }
   ],
   "source": [
    "job = \"Data Science\"\n",
    "desc = \"the sexiest job of the 21st century\"\n",
    "message = Template(\"$title has been called $description\")\n",
    "\n",
    "print(message.substitute(title=job, description = desc))"
   ]
  },
  {
   "cell_type": "code",
   "execution_count": 58,
   "id": "03321221",
   "metadata": {},
   "outputs": [
    {
     "data": {
      "text/plain": [
       "'I find the game very interesting but my sister has lost interest'"
      ]
     },
     "execution_count": 58,
     "metadata": {},
     "output_type": "execute_result"
    }
   ],
   "source": [
    "my_string = Template('I find the game very ${noun}ing but my sister has lost $noun')\n",
    "my_string.substitute(noun=\"interest\")"
   ]
  },
  {
   "cell_type": "code",
   "execution_count": 59,
   "id": "e943de0a",
   "metadata": {},
   "outputs": [
    {
     "data": {
      "text/plain": [
       "'I love chocolate cake very much'"
      ]
     },
     "execution_count": 59,
     "metadata": {},
     "output_type": "execute_result"
    }
   ],
   "source": [
    "favorite = dict(flavor=\"chocolate\", food = \"cake\")\n",
    "my_string = Template('I love $flavor $food very much')\n",
    "my_string.substitute(favorite)"
   ]
  },
  {
   "cell_type": "code",
   "execution_count": null,
   "id": "0f221ca7",
   "metadata": {},
   "outputs": [
    {
     "data": {
      "text/plain": [
       "' \\nfavorite = dict(flavor=\"chocolate\")\\nmy_string = Template(\\'I love $flavor $food very much\\')\\nmy_string.substitute(favorite)'"
      ]
     },
     "execution_count": 61,
     "metadata": {},
     "output_type": "execute_result"
    }
   ],
   "source": [
    "\"\"\" Key Error\n",
    "favorite = dict(flavor=\"chocolate\")\n",
    "my_string = Template('I love $flavor $food very much')\n",
    "my_string.substitute(favorite)\n",
    "\"\"\""
   ]
  },
  {
   "cell_type": "code",
   "execution_count": 63,
   "id": "e156ee6e",
   "metadata": {},
   "outputs": [
    {
     "data": {
      "text/plain": [
       "'I love chocolate $food very much'"
      ]
     },
     "execution_count": 63,
     "metadata": {},
     "output_type": "execute_result"
    }
   ],
   "source": [
    "favorite = dict(flavor=\"chocolate\")\n",
    "my_string = Template('I love $flavor $food very much')\n",
    "my_string.safe_substitute(favorite)"
   ]
  }
 ],
 "metadata": {
  "kernelspec": {
   "display_name": "base",
   "language": "python",
   "name": "python3"
  },
  "language_info": {
   "codemirror_mode": {
    "name": "ipython",
    "version": 3
   },
   "file_extension": ".py",
   "mimetype": "text/x-python",
   "name": "python",
   "nbconvert_exporter": "python",
   "pygments_lexer": "ipython3",
   "version": "3.12.4"
  }
 },
 "nbformat": 4,
 "nbformat_minor": 5
}

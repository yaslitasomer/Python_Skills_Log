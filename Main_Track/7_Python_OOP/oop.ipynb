{
 "cells": [
  {
   "cell_type": "markdown",
   "id": "2325055f",
   "metadata": {},
   "source": [
    "## CH1: OOP Fundamentals"
   ]
  },
  {
   "cell_type": "code",
   "execution_count": 2,
   "id": "1e22a9e7",
   "metadata": {},
   "outputs": [
    {
     "name": "stdout",
     "output_type": "stream",
     "text": [
      "I am Customer Robert\n",
      "0\n"
     ]
    }
   ],
   "source": [
    "class Customer:\n",
    "    def __init__(self, name, balance = 0):\n",
    "        self.set_name(name)\n",
    "        self.balance = balance\n",
    "    \n",
    "    def set_name(self, name):\n",
    "        self.name = name.title()\n",
    "    \n",
    "    def identify(self):\n",
    "        print(\"I am Customer \" + self.name)\n",
    "\n",
    "cust = Customer(\"RoBeRT\")\n",
    "cust.identify()\n",
    "print(cust.balance)"
   ]
  },
  {
   "cell_type": "markdown",
   "id": "ed49a2bf",
   "metadata": {},
   "source": [
    "## CH2: Inheritance and Polymorphism"
   ]
  },
  {
   "cell_type": "code",
   "execution_count": 9,
   "id": "4c644aa0",
   "metadata": {},
   "outputs": [
    {
     "name": "stdout",
     "output_type": "stream",
     "text": [
      "45000\n",
      "40000\n",
      "------\n",
      "40000\n",
      "40000\n",
      "------\n",
      "50000\n",
      "40000\n"
     ]
    }
   ],
   "source": [
    "# Class-level attributes\n",
    "class Employee:\n",
    "    MIN_SALARY = 40000\n",
    "\n",
    "    def __init__(self, name, salary):\n",
    "        self.name = name\n",
    "        if salary >= Employee.MIN_SALARY:\n",
    "            self.salary = salary\n",
    "        else:\n",
    "            self.salary = Employee.MIN_SALARY\n",
    "\n",
    "emp1 = Employee(\"Alice\", 45000)\n",
    "print(emp1.salary)\n",
    "print(emp1.MIN_SALARY)\n",
    "\n",
    "print(\"-\" * 6)\n",
    "\n",
    "emp2 = Employee(\"Bob\", 35000)\n",
    "print(emp2.salary)\n",
    "print(emp2.MIN_SALARY)\n",
    "\n",
    "print(\"-\" * 6)\n",
    "\n",
    "# Modifying class-level attributes\n",
    "emp1.MIN_SALARY = 50000\n",
    "\n",
    "print(emp1.MIN_SALARY)\n",
    "print(emp2.MIN_SALARY)"
   ]
  },
  {
   "cell_type": "markdown",
   "id": "7a22dc50",
   "metadata": {},
   "source": [
    "##### Class Methods"
   ]
  },
  {
   "cell_type": "code",
   "execution_count": 21,
   "id": "9f4e8fbc",
   "metadata": {},
   "outputs": [
    {
     "name": "stdout",
     "output_type": "stream",
     "text": [
      "Use Employee(name, salary) to create an instance of the Employee class.\n",
      "Alice: 50000\n",
      "Bob: 30000\n"
     ]
    }
   ],
   "source": [
    "class Employee:\n",
    "    def __init__(self, name, salary):\n",
    "        self.name = name\n",
    "        self.salary = salary\n",
    "    \n",
    "    @classmethod\n",
    "    def create_tips(cls):\n",
    "        print(\"Use Employee(name, salary) to create an instance of the Employee class.\")\n",
    "\n",
    "    @classmethod\n",
    "    def create_from_name_list(cls, nameList):\n",
    "        for name in nameList:\n",
    "            yield Employee(name, len(name) * 10000)\n",
    "        \n",
    "Employee.create_tips()\n",
    "\n",
    "emp1, emp2 = Employee.create_from_name_list([\"Alice\", \"Bob\"])\n",
    "print(emp1.name + f\": {emp1.salary}\")\n",
    "print(emp2.name + f\": {emp2.salary}\")\n"
   ]
  },
  {
   "cell_type": "markdown",
   "id": "8f690a53",
   "metadata": {},
   "source": [
    "##### Class Inheritance"
   ]
  },
  {
   "cell_type": "code",
   "execution_count": 1,
   "id": "d653889c",
   "metadata": {},
   "outputs": [
    {
     "name": "stdout",
     "output_type": "stream",
     "text": [
      "<class '__main__.SavingsAccount'>\n",
      "700\n"
     ]
    }
   ],
   "source": [
    "class BankAccount:\n",
    "    def __init__(self, balance):\n",
    "        self.balance = balance\n",
    "    \n",
    "    def withdraw(self, amount):\n",
    "        self.balance -= amount\n",
    "    \n",
    "# Class inheriting from BankAccount\n",
    "class SavingsAccount(BankAccount):\n",
    "    pass\n",
    "\n",
    "savings_acct = SavingsAccount(1000)\n",
    "print(type(savings_acct))\n",
    "savings_acct.withdraw(300)\n",
    "print(savings_acct.balance)"
   ]
  },
  {
   "cell_type": "code",
   "execution_count": 2,
   "id": "9d4c003d",
   "metadata": {},
   "outputs": [
    {
     "name": "stdout",
     "output_type": "stream",
     "text": [
      "True\n",
      "False\n"
     ]
    }
   ],
   "source": [
    "acct = BankAccount(2000)\n",
    "\n",
    "print(isinstance(savings_acct, BankAccount))\n",
    "print(isinstance(acct, SavingsAccount))"
   ]
  },
  {
   "cell_type": "code",
   "execution_count": 8,
   "id": "e3044eaf",
   "metadata": {},
   "outputs": [
    {
     "name": "stdout",
     "output_type": "stream",
     "text": [
      "100.0\n",
      "1593.74\n"
     ]
    }
   ],
   "source": [
    "class BankAccount:\n",
    "    def __init__(self, balance):\n",
    "        self.balance = balance\n",
    "    \n",
    "    def withdraw(self, amount):\n",
    "        self.balance -= amount\n",
    "\n",
    "class SavingsAccount(BankAccount):\n",
    "    def __init__(self, balance, interest_rate):\n",
    "        BankAccount.__init__(self, balance)\n",
    "        self.interest_rate = interest_rate\n",
    "\n",
    "    def compute_interest(self, n_periods=1):\n",
    "        return round(self.balance * ( (1 + self.interest_rate) ** n_periods - 1), 2)\n",
    "\n",
    "savings_acct = SavingsAccount(1000, 0.10)\n",
    "print(savings_acct.compute_interest())\n",
    "print(savings_acct.compute_interest(10))"
   ]
  },
  {
   "cell_type": "code",
   "execution_count": 17,
   "id": "bfba0a0b",
   "metadata": {},
   "outputs": [
    {
     "name": "stdout",
     "output_type": "stream",
     "text": [
      "Limit Error! Cannot withdraw...\n",
      "1000\n",
      "----------------------------------------\n",
      "Withdrawed $115 including $15 fee.\n",
      "885\n",
      "Withdrawed $150 including $0 fee.\n",
      "735\n"
     ]
    }
   ],
   "source": [
    "class CheckingAccount(BankAccount):\n",
    "    def __init__(self, balance, limit):\n",
    "        BankAccount.__init__(self, balance)\n",
    "        self.limit = limit\n",
    "    \n",
    "    def deposit(self, amount):\n",
    "        self.balance += amount\n",
    "\n",
    "    def withdraw(self, amount, fee=0):\n",
    "        if amount <= self.limit:\n",
    "            BankAccount.withdraw(self, amount + fee)\n",
    "            print(f\"Withdrawed ${amount + fee} including ${fee} fee.\")\n",
    "        else:\n",
    "            print(\"Limit Error! Cannot withdraw...\")\n",
    "\n",
    "check_acct = CheckingAccount(1000, 150)\n",
    "\n",
    "check_acct.withdraw(200)\n",
    "print(check_acct.balance)\n",
    "\n",
    "# seperator\n",
    "print(\"-\"*40)\n",
    "\n",
    "check_acct.withdraw(100, 15)\n",
    "print(check_acct.balance)\n",
    "\n",
    "check_acct.withdraw(150)\n",
    "print(check_acct.balance)\n"
   ]
  },
  {
   "cell_type": "markdown",
   "id": "b87eb9fb",
   "metadata": {},
   "source": [
    "## CH3: Integrating with Standard Python"
   ]
  },
  {
   "cell_type": "markdown",
   "id": "4644fcdf",
   "metadata": {},
   "source": [
    "##### Operator overloading: comparing objects"
   ]
  },
  {
   "cell_type": "code",
   "execution_count": null,
   "id": "20aa7d04",
   "metadata": {},
   "outputs": [
    {
     "name": "stdout",
     "output_type": "stream",
     "text": [
      "False\n",
      "<__main__.Customer object at 0x0000026DACAC8DA0>, <__main__.Customer object at 0x0000026DACAC9F70>\n"
     ]
    }
   ],
   "source": [
    "class Customer:\n",
    "    def __init__(self, name, balance):\n",
    "        self.name, self.balance = name, balance\n",
    "\n",
    "cust1 = Customer(\"Omer\", 1000)\n",
    "cust2 = Customer(\"Omer\", 1000)\n",
    "print(cust1 == cust2)\n",
    "print(cust1, cust2, sep=\", \")    # Variables are references"
   ]
  },
  {
   "cell_type": "code",
   "execution_count": 21,
   "id": "07c6898a",
   "metadata": {},
   "outputs": [
    {
     "name": "stdout",
     "output_type": "stream",
     "text": [
      "True\n"
     ]
    }
   ],
   "source": [
    "# __eq__() method\n",
    "class Customer:\n",
    "    def __init__(self, id, name):\n",
    "        self.id, self.name = id, name\n",
    "\n",
    "    def __eq__(self, other):\n",
    "        return (self.name == other.name) and (self.id == other.id) and (type(self) == type(other))\n",
    "        \n",
    "cust1 = Customer(12, \"Omer\")\n",
    "cust2 = Customer(12, \"Omer\")\n",
    "print(cust1 == cust2)"
   ]
  },
  {
   "cell_type": "markdown",
   "id": "70022e97",
   "metadata": {},
   "source": [
    "##### Inheritance comparison and string representation"
   ]
  },
  {
   "cell_type": "code",
   "execution_count": 22,
   "id": "a3b708a8",
   "metadata": {},
   "outputs": [],
   "source": [
    "class BankAccount:\n",
    "    def __init__(self, number, balance=0):\n",
    "        self.balance = balance\n",
    "        self.number = number\n",
    "\n",
    "    def withdraw(self, amount):\n",
    "        self.balance -= amount\n",
    "\n",
    "    # Define __eq__ that returns True\n",
    "    # if the number attributes are equal\n",
    "    def __eq__(self, other):\n",
    "        print(\"BankAccount __eq__() called\")\n",
    "        return self.number == other.number\n",
    "    \n",
    "class SavingsAccount(BankAccount):\n",
    "    def __init__(self, number, balance, interest_rate):\n",
    "        BankAccount.__init__(self, number, balance)\n",
    "        self.interest_rate = interest_rate\n",
    "\n",
    "    # Define __eq__ that returns True\n",
    "    # if the number attributes are equal\n",
    "    def __eq__(self, other):\n",
    "        print(\"SavingsAccount __eq__() called\")\n",
    "        return self.number == other.number"
   ]
  },
  {
   "cell_type": "code",
   "execution_count": 24,
   "id": "aa060fa6",
   "metadata": {},
   "outputs": [
    {
     "name": "stdout",
     "output_type": "stream",
     "text": [
      "SavingsAccount __eq__() called\n",
      "False\n",
      "SavingsAccount __eq__() called\n",
      "False\n"
     ]
    }
   ],
   "source": [
    "ba = BankAccount(100, 30000)\n",
    "sa = SavingsAccount(200, 50000, 0.06)\n",
    "\n",
    "print(ba == sa)\n",
    "print(sa == ba)"
   ]
  },
  {
   "cell_type": "markdown",
   "id": "fedfcdd4",
   "metadata": {},
   "source": [
    "##### String Representation and Reproducible Representation"
   ]
  },
  {
   "cell_type": "code",
   "execution_count": 53,
   "id": "7f515d01",
   "metadata": {},
   "outputs": [
    {
     "name": "stdout",
     "output_type": "stream",
     "text": [
      "\n",
      "Customer:\n",
      "    name: Omer\n",
      "    balance: 1000\n",
      "\n",
      "----------------------------------------\n"
     ]
    },
    {
     "data": {
      "text/plain": [
       "Customer('Omer', 1000)"
      ]
     },
     "execution_count": 53,
     "metadata": {},
     "output_type": "execute_result"
    }
   ],
   "source": [
    "import textwrap\n",
    "\n",
    "class Customer:\n",
    "    def __init__(self, name, balance):\n",
    "        self.name, self.balance = name, balance\n",
    "    \n",
    "    def __repr__(self):\n",
    "        return f\"Customer('{self.name}', {self.balance})\"\n",
    "    \n",
    "    def __str__(self): \n",
    "        cust_str = f\"\"\"\n",
    "        Customer:\n",
    "            name: {self.name}\n",
    "            balance: {self.balance}\n",
    "        \"\"\"\n",
    "        return textwrap.dedent(cust_str)\n",
    "\n",
    "cust = Customer(\"Omer\", 1000)\n",
    "print(cust)\n",
    "print(\"-\"*40) # seperator\n",
    "cust\n"
   ]
  },
  {
   "cell_type": "markdown",
   "id": "c58ce2c9",
   "metadata": {},
   "source": [
    "##### Exceptions"
   ]
  },
  {
   "cell_type": "code",
   "execution_count": 54,
   "id": "e15ae467",
   "metadata": {},
   "outputs": [
    {
     "name": "stdout",
     "output_type": "stream",
     "text": [
      "Cannot add an int to a string, but you can multiply them...\n",
      "aaaaa\n"
     ]
    }
   ],
   "source": [
    "# Exception handling\n",
    "try:\n",
    "    print(5 + \"a\")\n",
    "except TypeError:\n",
    "    print(\"Cannot add an int to a string, but you can multiply them...\")\n",
    "finally:\n",
    "    print(5 * \"a\")"
   ]
  },
  {
   "cell_type": "code",
   "execution_count": 57,
   "id": "0bfc4414",
   "metadata": {},
   "outputs": [],
   "source": [
    "# Raising exceptions\n",
    "def make_list_of_ones(length):\n",
    "    if length <= 0:\n",
    "        raise ValueError(\"Invalid length!\")\n",
    "    return [1] * length\n",
    "\n",
    "#make_list_of_ones(-1) # ValueError"
   ]
  },
  {
   "cell_type": "code",
   "execution_count": 63,
   "id": "3a02fcd8",
   "metadata": {},
   "outputs": [
    {
     "name": "stdout",
     "output_type": "stream",
     "text": [
      "Omer, 0\n"
     ]
    }
   ],
   "source": [
    "# Custom exceptions\n",
    "class BalanceError(Exception):\n",
    "    pass\n",
    "\n",
    "class Customer:\n",
    "    def __init__(self, name, balance):\n",
    "        if balance < 0:\n",
    "            raise BalanceError(\"Balance has to be non-negative...\")\n",
    "        else:\n",
    "            self.name, self.balance = name, balance\n",
    "\n",
    "#cust = Customer(\"Omer\", -10000) # BalanceError\n",
    "        \n",
    "try:\n",
    "    cust = Customer(\"Omer\", -10000)\n",
    "except BalanceError:\n",
    "    cust = Customer(\"Omer\", 0)\n",
    "\n",
    "print(cust.name + \", \" + str(cust.balance))"
   ]
  }
 ],
 "metadata": {
  "kernelspec": {
   "display_name": "base",
   "language": "python",
   "name": "python3"
  },
  "language_info": {
   "codemirror_mode": {
    "name": "ipython",
    "version": 3
   },
   "file_extension": ".py",
   "mimetype": "text/x-python",
   "name": "python",
   "nbconvert_exporter": "python",
   "pygments_lexer": "ipython3",
   "version": "3.12.4"
  }
 },
 "nbformat": 4,
 "nbformat_minor": 5
}

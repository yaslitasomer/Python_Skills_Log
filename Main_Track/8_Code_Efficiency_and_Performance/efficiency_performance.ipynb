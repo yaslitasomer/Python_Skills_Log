{
 "cells": [
  {
   "cell_type": "markdown",
   "id": "28d9d5cd",
   "metadata": {},
   "source": [
    "## CH1: Timing and Profiling Code"
   ]
  },
  {
   "cell_type": "code",
   "execution_count": 4,
   "id": "fcbf572c",
   "metadata": {},
   "outputs": [
    {
     "name": "stdout",
     "output_type": "stream",
     "text": [
      "18.2 μs ± 761 ns per loop (mean ± std. dev. of 7 runs, 10,000 loops each)\n"
     ]
    }
   ],
   "source": [
    "# Using %timeit\n",
    "import numpy as np\n",
    "\n",
    "%timeit rand_nums = np.random.rand(1000)"
   ]
  },
  {
   "cell_type": "code",
   "execution_count": 9,
   "id": "d636fdc3",
   "metadata": {},
   "outputs": [
    {
     "name": "stdout",
     "output_type": "stream",
     "text": [
      "76.5 μs ± 43 μs per loop (mean ± std. dev. of 2 runs, 10 loops each)\n"
     ]
    }
   ],
   "source": [
    "# Specify num of runs (-r) and loops (-n)\n",
    "%timeit -r2 -n10 rand_nums = np.random.rand(1000)"
   ]
  },
  {
   "cell_type": "code",
   "execution_count": 12,
   "id": "122021f9",
   "metadata": {},
   "outputs": [
    {
     "name": "stdout",
     "output_type": "stream",
     "text": [
      "19.5 μs ± 2.88 μs per loop (mean ± std. dev. of 7 runs, 10,000 loops each)\n",
      "[1.9213030001264996e-05, 2.646651999966707e-05, 1.8174199998611584e-05, 1.806621000287123e-05, 1.873598999809474e-05, 1.7895299999509007e-05, 1.7967569999746048e-05]\n",
      "1.7895299999509007e-05\n",
      "2.646651999966707e-05\n"
     ]
    }
   ],
   "source": [
    "# Save the output\n",
    "times = %timeit -o rand_nums = np.random.rand(1000)\n",
    "\n",
    "print(times.timings)\n",
    "print(times.best)\n",
    "print(times.worst)"
   ]
  },
  {
   "cell_type": "markdown",
   "id": "a36ec486",
   "metadata": {},
   "source": [
    "##### Code profiling for runtime"
   ]
  },
  {
   "cell_type": "code",
   "execution_count": null,
   "id": "7077a0e4",
   "metadata": {},
   "outputs": [
    {
     "name": "stdout",
     "output_type": "stream",
     "text": [
      "Requirement already satisfied: line_profiler in c:\\users\\omery\\anaconda3\\lib\\site-packages (4.1.3)\n",
      "Note: you may need to restart the kernel to use updated packages.\n"
     ]
    }
   ],
   "source": [
    "pip install line_profiler"
   ]
  },
  {
   "cell_type": "code",
   "execution_count": 37,
   "id": "ad69c0d9",
   "metadata": {},
   "outputs": [
    {
     "name": "stdout",
     "output_type": "stream",
     "text": [
      "{'Batman': (74.01559999999999, 209.4389), 'Superman': (75.19669999999999, 222.66661999999997), 'Wonder Woman': (72.0471, 163.14188)}\n",
      "8.1 μs ± 1.19 μs per loop (mean ± std. dev. of 7 runs, 100,000 loops each)\n"
     ]
    }
   ],
   "source": [
    "heroes = ['Batman', 'Superman', 'Wonder Woman']\n",
    "hts = np.array([188.0, 191.0, 183.0])\n",
    "wts = np.array([ 95.0, 101.0, 74.0])\n",
    "\n",
    "def convert_units(heroes, heights, weights):\n",
    "    new_hts = [ht * 0.39370 for ht in heights]\n",
    "    new_wts = [wt * 2.20462 for wt in weights]\n",
    "\n",
    "    hero_data = {}\n",
    "\n",
    "    for i,hero in enumerate(heroes):\n",
    "        hero_data[hero] = (new_hts[i], new_wts[i])\n",
    "\n",
    "    return hero_data\n",
    "\n",
    "print(convert_units(heroes, hts, wts))\n",
    "%timeit convert_units(heroes, hts, wts)"
   ]
  },
  {
   "cell_type": "code",
   "execution_count": 30,
   "id": "a5fd1256",
   "metadata": {},
   "outputs": [
    {
     "name": "stdout",
     "output_type": "stream",
     "text": [
      "2.64 μs ± 420 ns per loop (mean ± std. dev. of 7 runs, 100,000 loops each)\n",
      "2.58 μs ± 237 ns per loop (mean ± std. dev. of 7 runs, 100,000 loops each)\n"
     ]
    }
   ],
   "source": [
    "%timeit new_hts = [ht * 0.39370 for ht in hts]\n",
    "%timeit new_wts = [wt * 2.20462 for wt in wts]"
   ]
  },
  {
   "cell_type": "code",
   "execution_count": 29,
   "id": "3c98f80e",
   "metadata": {},
   "outputs": [
    {
     "name": "stdout",
     "output_type": "stream",
     "text": [
      "The line_profiler extension is already loaded. To reload it, use:\n",
      "  %reload_ext line_profiler\n"
     ]
    },
    {
     "name": "stdout",
     "output_type": "stream",
     "text": [
      "Timer unit: 1e-07 s\n",
      "\n",
      "Total time: 5.43e-05 s\n",
      "File: C:\\Users\\omery\\AppData\\Local\\Temp\\ipykernel_14040\\2793619217.py\n",
      "Function: convert_units at line 5\n",
      "\n",
      "Line #      Hits         Time  Per Hit   % Time  Line Contents\n",
      "==============================================================\n",
      "     5                                           def convert_units(heroes, heights, weights):\n",
      "     6         4        241.0     60.2     44.4      new_hts = [ht * 0.39370 for ht in heights]\n",
      "     7         4        134.0     33.5     24.7      new_wts = [wt * 2.20462 for wt in weights]\n",
      "     8                                           \n",
      "     9         1         12.0     12.0      2.2      hero_data = {}\n",
      "    10                                           \n",
      "    11         4         86.0     21.5     15.8      for i,hero in enumerate(heroes):\n",
      "    12         3         52.0     17.3      9.6          hero_data[hero] = (new_hts[i], new_wts[i])\n",
      "    13                                           \n",
      "    14         1         18.0     18.0      3.3      return hero_data"
     ]
    }
   ],
   "source": [
    "%load_ext line_profiler\n",
    "%lprun -f convert_units convert_units(heroes, hts, wts)"
   ]
  },
  {
   "cell_type": "markdown",
   "id": "ca3dd9e6",
   "metadata": {},
   "source": [
    "##### Code profiling for memory usage"
   ]
  },
  {
   "cell_type": "code",
   "execution_count": 31,
   "id": "6b2558f7",
   "metadata": {},
   "outputs": [
    {
     "name": "stdout",
     "output_type": "stream",
     "text": [
      "Requirement already satisfied: memory_profiler in c:\\users\\omery\\anaconda3\\lib\\site-packages (0.61.0)\n",
      "Requirement already satisfied: psutil in c:\\users\\omery\\anaconda3\\lib\\site-packages (from memory_profiler) (5.9.0)\n",
      "Note: you may need to restart the kernel to use updated packages.\n"
     ]
    }
   ],
   "source": [
    "pip install memory_profiler"
   ]
  },
  {
   "cell_type": "code",
   "execution_count": 32,
   "id": "5d7c9bdc",
   "metadata": {},
   "outputs": [],
   "source": [
    "%load_ext memory_profiler"
   ]
  },
  {
   "cell_type": "code",
   "execution_count": 39,
   "id": "d35def4a",
   "metadata": {},
   "outputs": [
    {
     "name": "stdout",
     "output_type": "stream",
     "text": [
      "\n"
     ]
    },
    {
     "name": "stdout",
     "output_type": "stream",
     "text": [
      "Filename: c:\\programming_2025_09\\Python_Skills_Log\\8_Code_Efficiency_and_Performance\\projects\\performance_functions.py\n",
      "\n",
      "Line #    Mem usage    Increment  Occurrences   Line Contents\n",
      "=============================================================\n",
      "     1    114.4 MiB    114.4 MiB           1   def convert_units(heroes, heights, weights):\n",
      "     2    114.4 MiB      0.0 MiB           4       new_hts = [ht * 0.39370 for ht in heights]\n",
      "     3    114.4 MiB      0.0 MiB           4       new_wts = [wt * 2.20462 for wt in weights]\n",
      "     4                                         \n",
      "     5    114.4 MiB      0.0 MiB           1       hero_data = {}\n",
      "     6                                         \n",
      "     7    114.4 MiB      0.0 MiB           4       for i,hero in enumerate(heroes):\n",
      "     8    114.4 MiB      0.0 MiB           3           hero_data[hero] = (new_hts[i], new_wts[i])\n",
      "     9                                         \n",
      "    10    114.4 MiB      0.0 MiB           1       return hero_data"
     ]
    }
   ],
   "source": [
    "from projects.performance_functions import convert_units\n",
    "%mprun -f convert_units convert_units(heroes, hts, wts)"
   ]
  },
  {
   "cell_type": "markdown",
   "id": "55703c57",
   "metadata": {},
   "source": [
    "##### Gaining Efficiencies"
   ]
  },
  {
   "cell_type": "code",
   "execution_count": 41,
   "id": "e2f362ad",
   "metadata": {},
   "outputs": [
    {
     "name": "stdout",
     "output_type": "stream",
     "text": [
      "Counter({'Ghost': 3, 'Dragon': 2, 'Grass': 1, 'Dark': 1, 'Fire': 1})\n"
     ]
    }
   ],
   "source": [
    "# collections.Counter()\n",
    "from collections import Counter\n",
    "\n",
    "poke_types = [\"Grass\", \"Dark\", \"Fire\", \"Dragon\", \"Ghost\", \"Ghost\", \"Ghost\", \"Dragon\"]\n",
    "type_counts = Counter(poke_types)\n",
    "print(type_counts)"
   ]
  },
  {
   "cell_type": "code",
   "execution_count": 43,
   "id": "836e14f9",
   "metadata": {},
   "outputs": [
    {
     "name": "stdout",
     "output_type": "stream",
     "text": [
      "<class 'itertools.combinations'>\n",
      "[('Grass', 'Dark'), ('Grass', 'Fire'), ('Grass', 'Dragon'), ('Grass', 'Ghost'), ('Dark', 'Fire'), ('Dark', 'Dragon'), ('Dark', 'Ghost'), ('Fire', 'Dragon'), ('Fire', 'Ghost'), ('Dragon', 'Ghost')]\n"
     ]
    }
   ],
   "source": [
    "# itertools.combinations()\n",
    "from itertools import combinations\n",
    "\n",
    "poke_types = [\"Grass\", \"Dark\", \"Fire\", \"Dragon\", \"Ghost\"]\n",
    "combos_obj = combinations(poke_types, 2)\n",
    "\n",
    "print(type(combos_obj))\n",
    "\n",
    "combos = [*combos_obj]\n",
    "print(combos)"
   ]
  },
  {
   "cell_type": "markdown",
   "id": "5e8da682",
   "metadata": {},
   "source": [
    "##### Set theory"
   ]
  },
  {
   "cell_type": "code",
   "execution_count": null,
   "id": "a078dadd",
   "metadata": {},
   "outputs": [
    {
     "name": "stdout",
     "output_type": "stream",
     "text": [
      "{16, 9}\n",
      "{0, 1, 4}\n",
      "{49, 0, 1, 36, 4, 25}\n",
      "{0, 1, 4, 36, 9, 16, 49, 25}\n"
     ]
    }
   ],
   "source": [
    "set_a = set([i**2 for i in range(5)])\n",
    "set_b = set([i**2 for i in range(3, 8)])\n",
    "\n",
    "print(set_a.intersection(set_b))\n",
    "print(set_a.difference(set_b))\n",
    "print(set_a.symmetric_difference(set_b))\n",
    "print(set_a.union(set_b))"
   ]
  },
  {
   "cell_type": "markdown",
   "id": "ccdd470b",
   "metadata": {},
   "source": [
    "##### Eliminating loops with built-ins"
   ]
  },
  {
   "cell_type": "code",
   "execution_count": 49,
   "id": "5f44c5c1",
   "metadata": {},
   "outputs": [],
   "source": [
    "# List of HP, Attack, Defense, Speed\n",
    "poke_stats = [\n",
    "    [90, 92, 75, 60],\n",
    "    [25, 20, 15, 90],\n",
    "    [65, 130, 60, 75],\n",
    "    [100, 100, 100, 10],\n",
    "    [35, 50, 80, 110],\n",
    "    [70, 70, 70, 70],\n",
    "    [50, 45, 45, 100],\n",
    "    [80, 85, 75, 95],\n",
    "    [105, 135, 100, 50]\n",
    "]"
   ]
  },
  {
   "cell_type": "code",
   "execution_count": 50,
   "id": "236b9426",
   "metadata": {},
   "outputs": [
    {
     "name": "stdout",
     "output_type": "stream",
     "text": [
      "3.17 μs ± 244 ns per loop (mean ± std. dev. of 7 runs, 100,000 loops each)\n"
     ]
    }
   ],
   "source": [
    "%%timeit\n",
    "# For loop approach\n",
    "totals = []\n",
    "for row in poke_stats:\n",
    "    totals.append(sum(row))"
   ]
  },
  {
   "cell_type": "code",
   "execution_count": 51,
   "id": "bd56ca62",
   "metadata": {},
   "outputs": [
    {
     "name": "stdout",
     "output_type": "stream",
     "text": [
      "2.85 μs ± 64.9 ns per loop (mean ± std. dev. of 7 runs, 100,000 loops each)\n"
     ]
    }
   ],
   "source": [
    "%timeit totals = [sum(row) for row in poke_stats]"
   ]
  },
  {
   "cell_type": "code",
   "execution_count": 53,
   "id": "38c50f71",
   "metadata": {},
   "outputs": [
    {
     "name": "stdout",
     "output_type": "stream",
     "text": [
      "2.55 μs ± 45.6 ns per loop (mean ± std. dev. of 7 runs, 100,000 loops each)\n"
     ]
    }
   ],
   "source": [
    "%timeit totals = [*map(sum, poke_stats)]"
   ]
  }
 ],
 "metadata": {
  "kernelspec": {
   "display_name": "base",
   "language": "python",
   "name": "python3"
  },
  "language_info": {
   "codemirror_mode": {
    "name": "ipython",
    "version": 3
   },
   "file_extension": ".py",
   "mimetype": "text/x-python",
   "name": "python",
   "nbconvert_exporter": "python",
   "pygments_lexer": "ipython3",
   "version": "3.12.4"
  }
 },
 "nbformat": 4,
 "nbformat_minor": 5
}

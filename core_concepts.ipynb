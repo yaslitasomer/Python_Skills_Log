{
 "cells": [
  {
   "cell_type": "markdown",
   "id": "867f3f07",
   "metadata": {},
   "source": [
    "# CH1.1"
   ]
  },
  {
   "cell_type": "markdown",
   "id": "d2507105",
   "metadata": {},
   "source": [
    "##### Working with strings"
   ]
  },
  {
   "cell_type": "code",
   "execution_count": 1,
   "id": "4f56019f",
   "metadata": {},
   "outputs": [
    {
     "name": "stdout",
     "output_type": "stream",
     "text": [
      "Hello, Python!\n"
     ]
    }
   ],
   "source": [
    "message = \"Hello, World!\"\n",
    "\n",
    "# Replace 'World' with 'Python'\n",
    "message = message.replace(\"World\", \"Python\")\n",
    "print(message)"
   ]
  },
  {
   "cell_type": "code",
   "execution_count": 3,
   "id": "9b9bdea0",
   "metadata": {},
   "outputs": [
    {
     "name": "stdout",
     "output_type": "stream",
     "text": [
      "string operations in python\n",
      "STRING OPERATIONS IN PYTHON\n",
      "String Operations In Python\n"
     ]
    }
   ],
   "source": [
    "topic = \"String opeRations IN Python\"\n",
    "\n",
    "# lowercase, uppercase and titlecase\n",
    "print(topic.lower())\n",
    "print(topic.upper())\n",
    "print(topic.title())"
   ]
  },
  {
   "cell_type": "markdown",
   "id": "982c906d",
   "metadata": {},
   "source": [
    "##### Lists"
   ]
  },
  {
   "cell_type": "code",
   "execution_count": 5,
   "id": "7e8c622c",
   "metadata": {},
   "outputs": [
    {
     "name": "stdout",
     "output_type": "stream",
     "text": [
      "<class 'list'>\n",
      "['Python', 'JavaScript', 'C++', 'Java', 'Ruby']\n"
     ]
    }
   ],
   "source": [
    "# List of popular programming languages\n",
    "languages = [\"Python\", \"JavaScript\", \"C++\", \"Java\", \"Ruby\"]\n",
    "print(type(languages))\n",
    "print(languages)"
   ]
  },
  {
   "cell_type": "code",
   "execution_count": 6,
   "id": "cd5ba96f",
   "metadata": {},
   "outputs": [
    {
     "name": "stdout",
     "output_type": "stream",
     "text": [
      "Python\n",
      "Ruby\n"
     ]
    }
   ],
   "source": [
    "# Accessing list elements by index\n",
    "print(languages[0])  # First element\n",
    "print(languages[-1]) # Last element"
   ]
  },
  {
   "cell_type": "code",
   "execution_count": 7,
   "id": "fbfd63b8",
   "metadata": {},
   "outputs": [
    {
     "name": "stdout",
     "output_type": "stream",
     "text": [
      "['JavaScript', 'C++', 'Java']\n"
     ]
    }
   ],
   "source": [
    "# Accessing multiple elements (slicing)\n",
    "print(languages[1:4])  # Elements from index 1 to 3"
   ]
  },
  {
   "cell_type": "code",
   "execution_count": 8,
   "id": "419fdc91",
   "metadata": {},
   "outputs": [
    {
     "name": "stdout",
     "output_type": "stream",
     "text": [
      "['Java', 'Ruby']\n",
      "['Python', 'JavaScript', 'C++']\n"
     ]
    }
   ],
   "source": [
    "# Access all elements from the fourth element to the end\n",
    "print(languages[3:])  # From index 3 to end\n",
    "\n",
    "# Access the first three elements\n",
    "print(languages[:3])  # First three elements"
   ]
  },
  {
   "cell_type": "code",
   "execution_count": 10,
   "id": "6c91f423",
   "metadata": {},
   "outputs": [
    {
     "name": "stdout",
     "output_type": "stream",
     "text": [
      "['Python', 'C++', 'Ruby']\n",
      "['Python', 'Java']\n",
      "['JavaScript', 'Java']\n"
     ]
    }
   ],
   "source": [
    "# Access every nth element (slicing with step) \n",
    "# [\"Python\", \"JavaScript\", \"C++\", \"Java\", \"Ruby\"]\n",
    "print(languages[::2])  # Every second element\n",
    "print(languages[::3])  # Every third element\n",
    "print(languages[1::2]) # Every second element starting from index 1"
   ]
  },
  {
   "cell_type": "markdown",
   "id": "911c0596",
   "metadata": {},
   "source": [
    "##### Dictionaries"
   ]
  },
  {
   "cell_type": "code",
   "execution_count": 11,
   "id": "c843bd8d",
   "metadata": {},
   "outputs": [],
   "source": [
    "languages = [\"Python\", \"JavaScript\", \"C++\", \"Java\", \"Ruby\"]\n",
    "\n",
    "# Language abbreviations\n",
    "language_abbreviations = [\"PY\", \"JS\", \"CPP\", \"JV\", \"RB\"]\n",
    "\n",
    "# creating a dictionary\n",
    "language_dict = {\n",
    "    \"Python\": \"PY\",\n",
    "    \"JavaScript\": \"JS\",\n",
    "    \"C++\": \"CPP\",\n",
    "    \"Java\": \"JV\",\n",
    "    \"Ruby\": \"RB\"\n",
    "}"
   ]
  },
  {
   "cell_type": "code",
   "execution_count": 12,
   "id": "8e7a31da",
   "metadata": {},
   "outputs": [
    {
     "name": "stdout",
     "output_type": "stream",
     "text": [
      "PY\n",
      "dict_values(['PY', 'JS', 'CPP', 'JV', 'RB'])\n",
      "dict_keys(['Python', 'JavaScript', 'C++', 'Java', 'Ruby'])\n"
     ]
    }
   ],
   "source": [
    "# Find a language abbreviation\n",
    "print(language_dict[\"Python\"])\n",
    "\n",
    "# Get all values (abbreviations)\n",
    "print(language_dict.values())\n",
    "\n",
    "# Get all keys (languages)\n",
    "print(language_dict.keys()) "
   ]
  },
  {
   "cell_type": "code",
   "execution_count": 14,
   "id": "d8a6b1c6",
   "metadata": {},
   "outputs": [
    {
     "name": "stdout",
     "output_type": "stream",
     "text": [
      "{'Python': 'PY', 'JavaScript': 'JS', 'C++': 'CPP', 'Java': 'JV', 'Ruby': 'RB'}\n",
      "dict_items([('Python', 'PY'), ('JavaScript', 'JS'), ('C++', 'CPP'), ('Java', 'JV'), ('Ruby', 'RB')])\n"
     ]
    }
   ],
   "source": [
    "# Print the entire dictionary\n",
    "print(language_dict)\n",
    "\n",
    "# Get all items (key-value pairs)\n",
    "print(language_dict.items()) # useful for iteration or looping"
   ]
  },
  {
   "cell_type": "code",
   "execution_count": 16,
   "id": "6dbde3aa",
   "metadata": {},
   "outputs": [
    {
     "name": "stdout",
     "output_type": "stream",
     "text": [
      "{'Python': 'PY', 'JavaScript': 'JS', 'C++': 'CPP', 'Java': 'JV', 'Ruby': 'RB', 'Swift': 'S'}\n",
      "{'Python': 'PY', 'JavaScript': 'JS', 'C++': 'CPP', 'Java': 'JV', 'Ruby': 'RB', 'Swift': 'SW'}\n"
     ]
    }
   ],
   "source": [
    "# Add a key-value pair\n",
    "language_dict[\"Swift\"] = \"S\"\n",
    "print(language_dict)\n",
    "\n",
    "# Update an existing key-value pair\n",
    "language_dict[\"Swift\"] = \"SW\"\n",
    "print(language_dict)"
   ]
  },
  {
   "cell_type": "markdown",
   "id": "9f305eff",
   "metadata": {},
   "source": [
    "##### Sets\n",
    "\n",
    "* Unique data\n",
    "* Unchangeable(cannot change values)\n",
    "* Quick to search"
   ]
  },
  {
   "cell_type": "code",
   "execution_count": 17,
   "id": "e01dc0ce",
   "metadata": {},
   "outputs": [
    {
     "name": "stdout",
     "output_type": "stream",
     "text": [
      "{'David', 'Bob', 'Alice', 'Charlie', 'Eva'}\n",
      "<class 'set'>\n"
     ]
    }
   ],
   "source": [
    "# Creating a set of student names\n",
    "student_names = {\"Alice\", \"Bob\", \"Charlie\", \"David\", \"Eva\"}\n",
    "print(student_names)\n",
    "print(type(student_names))"
   ]
  },
  {
   "cell_type": "code",
   "execution_count": 18,
   "id": "c6be0386",
   "metadata": {},
   "outputs": [
    {
     "name": "stdout",
     "output_type": "stream",
     "text": [
      "{'David', 'Alice', 'Charlie', 'Bob'}\n"
     ]
    }
   ],
   "source": [
    "# Creating a set from a list (duplicates will be removed)\n",
    "names_list = [\"Alice\", \"Bob\", \"Charlie\", \"Alice\", \"David\", \"Bob\"]\n",
    "unique_names = set(names_list)\n",
    "print(unique_names)"
   ]
  },
  {
   "cell_type": "code",
   "execution_count": 20,
   "id": "980a2f76",
   "metadata": {},
   "outputs": [
    {
     "name": "stdout",
     "output_type": "stream",
     "text": [
      "['Alice', 'Bob', 'Charlie', 'David']\n",
      "<class 'list'>\n"
     ]
    }
   ],
   "source": [
    "# Sorting the set unique_names\n",
    "sorted_names = sorted(unique_names)\n",
    "print(sorted_names)\n",
    "print(type(sorted_names))"
   ]
  },
  {
   "cell_type": "markdown",
   "id": "fa5ec340",
   "metadata": {},
   "source": [
    "##### Tuples\n",
    "* Immutable\n",
    "* Ordered"
   ]
  },
  {
   "cell_type": "code",
   "execution_count": 21,
   "id": "5c190030",
   "metadata": {},
   "outputs": [
    {
     "name": "stdout",
     "output_type": "stream",
     "text": [
      "('Istanbul', 'Ankara', 'Izmir', 'Bursa', 'Antalya')\n"
     ]
    }
   ],
   "source": [
    "# Create a tuple from a list\n",
    "cities_list = [\"Istanbul\", \"Ankara\", \"Izmir\", \"Bursa\", \"Antalya\"]\n",
    "cities_tuple = tuple(cities_list)\n",
    "print(cities_tuple)"
   ]
  },
  {
   "cell_type": "code",
   "execution_count": 22,
   "id": "4d61238e",
   "metadata": {},
   "outputs": [
    {
     "name": "stdout",
     "output_type": "stream",
     "text": [
      "Ankara\n"
     ]
    }
   ],
   "source": [
    "# Creating a tuple of cities in Turkey\n",
    "cities = (\"Istanbul\", \"Ankara\", \"Izmir\", \"Bursa\", \"Antalya\")\n",
    "\n",
    "# Access the second city\n",
    "print(cities[1])"
   ]
  },
  {
   "cell_type": "markdown",
   "id": "e2e7fb70",
   "metadata": {},
   "source": [
    "##### For Loops"
   ]
  },
  {
   "cell_type": "code",
   "execution_count": 23,
   "id": "326b591b",
   "metadata": {},
   "outputs": [
    {
     "name": "stdout",
     "output_type": "stream",
     "text": [
      "H\n",
      "e\n",
      "l\n",
      "l\n",
      "o\n",
      "!\n"
     ]
    }
   ],
   "source": [
    "# Looping through a string\n",
    "message = \"Hello!\"\n",
    "for char in message:\n",
    "    print(char)"
   ]
  },
  {
   "cell_type": "code",
   "execution_count": 24,
   "id": "6f77b316",
   "metadata": {},
   "outputs": [
    {
     "name": "stdout",
     "output_type": "stream",
     "text": [
      "The abbreviation of Python is PY\n",
      "The abbreviation of JavaScript is JS\n",
      "The abbreviation of C++ is CPP\n",
      "The abbreviation of Java is JV\n",
      "The abbreviation of Ruby is RB\n"
     ]
    }
   ],
   "source": [
    "# Looping through a dictionary\n",
    "language_dict = {\n",
    "    \"Python\": \"PY\",\n",
    "    \"JavaScript\": \"JS\",\n",
    "    \"C++\": \"CPP\",\n",
    "    \"Java\": \"JV\",\n",
    "    \"Ruby\": \"RB\"\n",
    "}   \n",
    "for language, abbreviation in language_dict.items():\n",
    "    print(f\"The abbreviation of {language} is {abbreviation}\")"
   ]
  },
  {
   "cell_type": "code",
   "execution_count": 26,
   "id": "c4443a97",
   "metadata": {},
   "outputs": [
    {
     "name": "stdout",
     "output_type": "stream",
     "text": [
      "Python\n",
      "JavaScript\n",
      "C++\n",
      "Java\n",
      "Ruby\n",
      "--------------------\n",
      "PY\n",
      "JS\n",
      "CPP\n",
      "JV\n",
      "RB\n"
     ]
    }
   ],
   "source": [
    "# Loop through keys only\n",
    "for language in language_dict: # same as language_dict.keys()\n",
    "    print(language)\n",
    "\n",
    "# seperator\n",
    "print(\"-\" * 20)\n",
    "\n",
    "# Loop through values only\n",
    "for abbreviation in language_dict.values():\n",
    "    print(abbreviation)"
   ]
  },
  {
   "cell_type": "code",
   "execution_count": 28,
   "id": "287152ec",
   "metadata": {},
   "outputs": [
    {
     "name": "stdout",
     "output_type": "stream",
     "text": [
      "0\n",
      "1\n",
      "2\n",
      "3\n",
      "4\n",
      "--------------------\n",
      "1\n",
      "2\n",
      "3\n",
      "4\n",
      "5\n"
     ]
    }
   ],
   "source": [
    "# Range in for loop, range(start, end + 1)\n",
    "for i in range(5):  # 0 to 4\n",
    "    print(i)\n",
    "\n",
    "# seperator\n",
    "print(\"-\" * 20)\n",
    "\n",
    "for i in range(1, 6):  # 1 to 5\n",
    "    print(i)"
   ]
  },
  {
   "cell_type": "code",
   "execution_count": 29,
   "id": "c4984eaf",
   "metadata": {},
   "outputs": [
    {
     "name": "stdout",
     "output_type": "stream",
     "text": [
      "Count is: 10\n"
     ]
    }
   ],
   "source": [
    "# Building a counter using a for loop\n",
    "count = 0\n",
    "for i in range(10):\n",
    "    count += 1\n",
    "print(\"Count is:\", count)"
   ]
  },
  {
   "cell_type": "markdown",
   "id": "aeefd8e1",
   "metadata": {},
   "source": [
    "##### Building a Workflow"
   ]
  },
  {
   "cell_type": "code",
   "execution_count": null,
   "id": "44394c3b",
   "metadata": {},
   "outputs": [
    {
     "name": "stdout",
     "output_type": "stream",
     "text": [
      "Laptop is available.\n",
      "Desktop is not available.\n",
      "No affordable Smartphone available.\n",
      "Either Smartwatch is available or there is a product under $500.\n"
     ]
    }
   ],
   "source": [
    "# (In not and or) keywords\n",
    "products_dict = {\n",
    "    \"Laptop\": 1500,\n",
    "    \"Smartphone\": 1000,\n",
    "    \"Tablet\": 400\n",
    "}\n",
    "\n",
    "if \"Laptop\" in products_dict:\n",
    "    print(\"Laptop is available.\")\n",
    "\n",
    "if \"Desktop\" not in products_dict:\n",
    "    print(\"Desktop is not available.\")\n",
    "\n",
    "if \"Smartphone\" in products_dict and products_dict[\"Smartphone\"] < 900:\n",
    "    print(\"Affordable Smartphone is available.\")\n",
    "else:\n",
    "    print(\"No affordable Smartphone available or no Smartphone at all.\")\n",
    "\n",
    "if \"Smartwatch\" in products_dict or min(products_dict.values()) < 500:\n",
    "    print(\"Either Smartwatch is available or there is a product under $500.\")"
   ]
  },
  {
   "cell_type": "code",
   "execution_count": null,
   "id": "436469ad",
   "metadata": {},
   "outputs": [],
   "source": []
  },
  {
   "cell_type": "markdown",
   "id": "c0533754",
   "metadata": {},
   "source": [
    "# CH1.2"
   ]
  },
  {
   "cell_type": "code",
   "execution_count": 33,
   "id": "0c713bd2",
   "metadata": {},
   "outputs": [
    {
     "name": "stdout",
     "output_type": "stream",
     "text": [
      "890.12\n",
      "123.452\n",
      "3061.719\n",
      "3061.72\n"
     ]
    }
   ],
   "source": [
    "sales = [123.452, 678.903, 234.56, 789.014, 345.67, 890.12]\n",
    "\n",
    "# Find the largest sale\n",
    "print(max(sales))\n",
    "\n",
    "# Find the smallest sale\n",
    "print(min(sales))\n",
    "\n",
    "# Find the total sales\n",
    "print(sum(sales))\n",
    "\n",
    "# Round total sales to 2 decimal places\n",
    "total_sales = sum(sales)    \n",
    "print(round(total_sales, 2))"
   ]
  },
  {
   "cell_type": "code",
   "execution_count": null,
   "id": "35478932",
   "metadata": {},
   "outputs": [],
   "source": []
  }
 ],
 "metadata": {
  "kernelspec": {
   "display_name": "base",
   "language": "python",
   "name": "python3"
  },
  "language_info": {
   "codemirror_mode": {
    "name": "ipython",
    "version": 3
   },
   "file_extension": ".py",
   "mimetype": "text/x-python",
   "name": "python",
   "nbconvert_exporter": "python",
   "pygments_lexer": "ipython3",
   "version": "3.12.4"
  }
 },
 "nbformat": 4,
 "nbformat_minor": 5
}

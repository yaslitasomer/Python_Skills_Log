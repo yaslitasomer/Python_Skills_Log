{
 "cells": [
  {
   "cell_type": "markdown",
   "id": "d2507105",
   "metadata": {},
   "source": [
    "##### Working with strings"
   ]
  },
  {
   "cell_type": "code",
   "execution_count": 1,
   "id": "4f56019f",
   "metadata": {},
   "outputs": [
    {
     "name": "stdout",
     "output_type": "stream",
     "text": [
      "Hello, Python!\n"
     ]
    }
   ],
   "source": [
    "message = \"Hello, World!\"\n",
    "\n",
    "# Replace 'World' with 'Python'\n",
    "message = message.replace(\"World\", \"Python\")\n",
    "print(message)"
   ]
  },
  {
   "cell_type": "code",
   "execution_count": 3,
   "id": "9b9bdea0",
   "metadata": {},
   "outputs": [
    {
     "name": "stdout",
     "output_type": "stream",
     "text": [
      "string operations in python\n",
      "STRING OPERATIONS IN PYTHON\n",
      "String Operations In Python\n"
     ]
    }
   ],
   "source": [
    "topic = \"String opeRations IN Python\"\n",
    "\n",
    "# lowercase, uppercase and titlecase\n",
    "print(topic.lower())\n",
    "print(topic.upper())\n",
    "print(topic.title())"
   ]
  },
  {
   "cell_type": "markdown",
   "id": "982c906d",
   "metadata": {},
   "source": [
    "##### Lists"
   ]
  },
  {
   "cell_type": "code",
   "execution_count": 5,
   "id": "7e8c622c",
   "metadata": {},
   "outputs": [
    {
     "name": "stdout",
     "output_type": "stream",
     "text": [
      "<class 'list'>\n",
      "['Python', 'JavaScript', 'C++', 'Java', 'Ruby']\n"
     ]
    }
   ],
   "source": [
    "# List of popular programming languages\n",
    "languages = [\"Python\", \"JavaScript\", \"C++\", \"Java\", \"Ruby\"]\n",
    "print(type(languages))\n",
    "print(languages)"
   ]
  },
  {
   "cell_type": "code",
   "execution_count": 6,
   "id": "cd5ba96f",
   "metadata": {},
   "outputs": [
    {
     "name": "stdout",
     "output_type": "stream",
     "text": [
      "Python\n",
      "Ruby\n"
     ]
    }
   ],
   "source": [
    "# Accessing list elements by index\n",
    "print(languages[0])  # First element\n",
    "print(languages[-1]) # Last element"
   ]
  },
  {
   "cell_type": "code",
   "execution_count": 7,
   "id": "fbfd63b8",
   "metadata": {},
   "outputs": [
    {
     "name": "stdout",
     "output_type": "stream",
     "text": [
      "['JavaScript', 'C++', 'Java']\n"
     ]
    }
   ],
   "source": [
    "# Accessing multiple elements (slicing)\n",
    "print(languages[1:4])  # Elements from index 1 to 3"
   ]
  },
  {
   "cell_type": "code",
   "execution_count": 8,
   "id": "419fdc91",
   "metadata": {},
   "outputs": [
    {
     "name": "stdout",
     "output_type": "stream",
     "text": [
      "['Java', 'Ruby']\n",
      "['Python', 'JavaScript', 'C++']\n"
     ]
    }
   ],
   "source": [
    "# Access all elements from the fourth element to the end\n",
    "print(languages[3:])  # From index 3 to end\n",
    "\n",
    "# Access the first three elements\n",
    "print(languages[:3])  # First three elements"
   ]
  },
  {
   "cell_type": "code",
   "execution_count": 10,
   "id": "6c91f423",
   "metadata": {},
   "outputs": [
    {
     "name": "stdout",
     "output_type": "stream",
     "text": [
      "['Python', 'C++', 'Ruby']\n",
      "['Python', 'Java']\n",
      "['JavaScript', 'Java']\n"
     ]
    }
   ],
   "source": [
    "# Access every nth element (slicing with step) \n",
    "# [\"Python\", \"JavaScript\", \"C++\", \"Java\", \"Ruby\"]\n",
    "print(languages[::2])  # Every second element\n",
    "print(languages[::3])  # Every third element\n",
    "print(languages[1::2]) # Every second element starting from index 1"
   ]
  },
  {
   "cell_type": "markdown",
   "id": "911c0596",
   "metadata": {},
   "source": [
    "##### Dictionaries"
   ]
  },
  {
   "cell_type": "code",
   "execution_count": 11,
   "id": "c843bd8d",
   "metadata": {},
   "outputs": [],
   "source": [
    "languages = [\"Python\", \"JavaScript\", \"C++\", \"Java\", \"Ruby\"]\n",
    "\n",
    "# Language abbreviations\n",
    "language_abbreviations = [\"PY\", \"JS\", \"CPP\", \"JV\", \"RB\"]\n",
    "\n",
    "# creating a dictionary\n",
    "language_dict = {\n",
    "    \"Python\": \"PY\",\n",
    "    \"JavaScript\": \"JS\",\n",
    "    \"C++\": \"CPP\",\n",
    "    \"Java\": \"JV\",\n",
    "    \"Ruby\": \"RB\"\n",
    "}"
   ]
  },
  {
   "cell_type": "code",
   "execution_count": 12,
   "id": "8e7a31da",
   "metadata": {},
   "outputs": [
    {
     "name": "stdout",
     "output_type": "stream",
     "text": [
      "PY\n",
      "dict_values(['PY', 'JS', 'CPP', 'JV', 'RB'])\n",
      "dict_keys(['Python', 'JavaScript', 'C++', 'Java', 'Ruby'])\n"
     ]
    }
   ],
   "source": [
    "# Find a language abbreviation\n",
    "print(language_dict[\"Python\"])\n",
    "\n",
    "# Get all values (abbreviations)\n",
    "print(language_dict.values())\n",
    "\n",
    "# Get all keys (languages)\n",
    "print(language_dict.keys()) "
   ]
  },
  {
   "cell_type": "code",
   "execution_count": 14,
   "id": "d8a6b1c6",
   "metadata": {},
   "outputs": [
    {
     "name": "stdout",
     "output_type": "stream",
     "text": [
      "{'Python': 'PY', 'JavaScript': 'JS', 'C++': 'CPP', 'Java': 'JV', 'Ruby': 'RB'}\n",
      "dict_items([('Python', 'PY'), ('JavaScript', 'JS'), ('C++', 'CPP'), ('Java', 'JV'), ('Ruby', 'RB')])\n"
     ]
    }
   ],
   "source": [
    "# Print the entire dictionary\n",
    "print(language_dict)\n",
    "\n",
    "# Get all items (key-value pairs)\n",
    "print(language_dict.items()) # useful for iteration or looping"
   ]
  },
  {
   "cell_type": "code",
   "execution_count": 16,
   "id": "6dbde3aa",
   "metadata": {},
   "outputs": [
    {
     "name": "stdout",
     "output_type": "stream",
     "text": [
      "{'Python': 'PY', 'JavaScript': 'JS', 'C++': 'CPP', 'Java': 'JV', 'Ruby': 'RB', 'Swift': 'S'}\n",
      "{'Python': 'PY', 'JavaScript': 'JS', 'C++': 'CPP', 'Java': 'JV', 'Ruby': 'RB', 'Swift': 'SW'}\n"
     ]
    }
   ],
   "source": [
    "# Add a key-value pair\n",
    "language_dict[\"Swift\"] = \"S\"\n",
    "print(language_dict)\n",
    "\n",
    "# Update an existing key-value pair\n",
    "language_dict[\"Swift\"] = \"SW\"\n",
    "print(language_dict)"
   ]
  },
  {
   "cell_type": "markdown",
   "id": "9f305eff",
   "metadata": {},
   "source": [
    "##### Sets\n",
    "\n",
    "* Unique data\n",
    "* Immutable\n",
    "* Quick to search"
   ]
  },
  {
   "cell_type": "code",
   "execution_count": 17,
   "id": "e01dc0ce",
   "metadata": {},
   "outputs": [
    {
     "name": "stdout",
     "output_type": "stream",
     "text": [
      "{'David', 'Bob', 'Alice', 'Charlie', 'Eva'}\n",
      "<class 'set'>\n"
     ]
    }
   ],
   "source": [
    "# Creating a set of student names\n",
    "student_names = {\"Alice\", \"Bob\", \"Charlie\", \"David\", \"Eva\"}\n",
    "print(student_names)\n",
    "print(type(student_names))"
   ]
  },
  {
   "cell_type": "code",
   "execution_count": 18,
   "id": "c6be0386",
   "metadata": {},
   "outputs": [
    {
     "name": "stdout",
     "output_type": "stream",
     "text": [
      "{'David', 'Alice', 'Charlie', 'Bob'}\n"
     ]
    }
   ],
   "source": [
    "# Creating a set from a list (duplicates will be removed)\n",
    "names_list = [\"Alice\", \"Bob\", \"Charlie\", \"Alice\", \"David\", \"Bob\"]\n",
    "unique_names = set(names_list)\n",
    "print(unique_names)"
   ]
  },
  {
   "cell_type": "code",
   "execution_count": 19,
   "id": "980a2f76",
   "metadata": {},
   "outputs": [
    {
     "name": "stdout",
     "output_type": "stream",
     "text": [
      "['Alice', 'Bob', 'Charlie', 'David']\n"
     ]
    }
   ],
   "source": [
    "# Sorting the set unique_names\n",
    "sorted_names = sorted(unique_names)\n",
    "print(sorted_names)"
   ]
  },
  {
   "cell_type": "code",
   "execution_count": null,
   "id": "fa5ec340",
   "metadata": {},
   "outputs": [],
   "source": []
  }
 ],
 "metadata": {
  "kernelspec": {
   "display_name": "base",
   "language": "python",
   "name": "python3"
  },
  "language_info": {
   "codemirror_mode": {
    "name": "ipython",
    "version": 3
   },
   "file_extension": ".py",
   "mimetype": "text/x-python",
   "name": "python",
   "nbconvert_exporter": "python",
   "pygments_lexer": "ipython3",
   "version": "3.12.4"
  }
 },
 "nbformat": 4,
 "nbformat_minor": 5
}
